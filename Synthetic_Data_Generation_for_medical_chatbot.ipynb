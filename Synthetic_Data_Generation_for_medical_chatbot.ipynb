{
  "nbformat": 4,
  "nbformat_minor": 0,
  "metadata": {
    "colab": {
      "provenance": [],
      "gpuType": "T4",
      "toc_visible": true
    },
    "kernelspec": {
      "name": "python3",
      "display_name": "Python 3"
    },
    "language_info": {
      "name": "python"
    },
    "accelerator": "GPU",
    "widgets": {
      "application/vnd.jupyter.widget-state+json": {
        "7806d0bc1ab04b85b56f78a205691cf6": {
          "model_module": "@jupyter-widgets/controls",
          "model_name": "HBoxModel",
          "model_module_version": "1.5.0",
          "state": {
            "_dom_classes": [],
            "_model_module": "@jupyter-widgets/controls",
            "_model_module_version": "1.5.0",
            "_model_name": "HBoxModel",
            "_view_count": null,
            "_view_module": "@jupyter-widgets/controls",
            "_view_module_version": "1.5.0",
            "_view_name": "HBoxView",
            "box_style": "",
            "children": [
              "IPY_MODEL_9d98673b12e64f3286aeae110f23d16e",
              "IPY_MODEL_4582814a1c6d4e05b32b490a80994e73",
              "IPY_MODEL_bb51e2ef4ca7490896ec4f0f6f561531"
            ],
            "layout": "IPY_MODEL_c30bf723eee6402c85db8f816e73d458"
          }
        },
        "9d98673b12e64f3286aeae110f23d16e": {
          "model_module": "@jupyter-widgets/controls",
          "model_name": "HTMLModel",
          "model_module_version": "1.5.0",
          "state": {
            "_dom_classes": [],
            "_model_module": "@jupyter-widgets/controls",
            "_model_module_version": "1.5.0",
            "_model_name": "HTMLModel",
            "_view_count": null,
            "_view_module": "@jupyter-widgets/controls",
            "_view_module_version": "1.5.0",
            "_view_name": "HTMLView",
            "description": "",
            "description_tooltip": null,
            "layout": "IPY_MODEL_79f1370a51a047819d4859c79e51d30c",
            "placeholder": "​",
            "style": "IPY_MODEL_1e9cfa86a6ed409988791e9646ae6c49",
            "value": "config.json: 100%"
          }
        },
        "4582814a1c6d4e05b32b490a80994e73": {
          "model_module": "@jupyter-widgets/controls",
          "model_name": "FloatProgressModel",
          "model_module_version": "1.5.0",
          "state": {
            "_dom_classes": [],
            "_model_module": "@jupyter-widgets/controls",
            "_model_module_version": "1.5.0",
            "_model_name": "FloatProgressModel",
            "_view_count": null,
            "_view_module": "@jupyter-widgets/controls",
            "_view_module_version": "1.5.0",
            "_view_name": "ProgressView",
            "bar_style": "success",
            "description": "",
            "description_tooltip": null,
            "layout": "IPY_MODEL_56b797c857024e988ae5ac59827de256",
            "max": 491,
            "min": 0,
            "orientation": "horizontal",
            "style": "IPY_MODEL_91caba45a47e4d698c86b9522ccf0ac9",
            "value": 491
          }
        },
        "bb51e2ef4ca7490896ec4f0f6f561531": {
          "model_module": "@jupyter-widgets/controls",
          "model_name": "HTMLModel",
          "model_module_version": "1.5.0",
          "state": {
            "_dom_classes": [],
            "_model_module": "@jupyter-widgets/controls",
            "_model_module_version": "1.5.0",
            "_model_name": "HTMLModel",
            "_view_count": null,
            "_view_module": "@jupyter-widgets/controls",
            "_view_module_version": "1.5.0",
            "_view_name": "HTMLView",
            "description": "",
            "description_tooltip": null,
            "layout": "IPY_MODEL_550ff750422448deb4c5bfb717422691",
            "placeholder": "​",
            "style": "IPY_MODEL_443168863a7141a297fb3ac725b93152",
            "value": " 491/491 [00:00&lt;00:00, 7.66kB/s]"
          }
        },
        "c30bf723eee6402c85db8f816e73d458": {
          "model_module": "@jupyter-widgets/base",
          "model_name": "LayoutModel",
          "model_module_version": "1.2.0",
          "state": {
            "_model_module": "@jupyter-widgets/base",
            "_model_module_version": "1.2.0",
            "_model_name": "LayoutModel",
            "_view_count": null,
            "_view_module": "@jupyter-widgets/base",
            "_view_module_version": "1.2.0",
            "_view_name": "LayoutView",
            "align_content": null,
            "align_items": null,
            "align_self": null,
            "border": null,
            "bottom": null,
            "display": null,
            "flex": null,
            "flex_flow": null,
            "grid_area": null,
            "grid_auto_columns": null,
            "grid_auto_flow": null,
            "grid_auto_rows": null,
            "grid_column": null,
            "grid_gap": null,
            "grid_row": null,
            "grid_template_areas": null,
            "grid_template_columns": null,
            "grid_template_rows": null,
            "height": null,
            "justify_content": null,
            "justify_items": null,
            "left": null,
            "margin": null,
            "max_height": null,
            "max_width": null,
            "min_height": null,
            "min_width": null,
            "object_fit": null,
            "object_position": null,
            "order": null,
            "overflow": null,
            "overflow_x": null,
            "overflow_y": null,
            "padding": null,
            "right": null,
            "top": null,
            "visibility": null,
            "width": null
          }
        },
        "79f1370a51a047819d4859c79e51d30c": {
          "model_module": "@jupyter-widgets/base",
          "model_name": "LayoutModel",
          "model_module_version": "1.2.0",
          "state": {
            "_model_module": "@jupyter-widgets/base",
            "_model_module_version": "1.2.0",
            "_model_name": "LayoutModel",
            "_view_count": null,
            "_view_module": "@jupyter-widgets/base",
            "_view_module_version": "1.2.0",
            "_view_name": "LayoutView",
            "align_content": null,
            "align_items": null,
            "align_self": null,
            "border": null,
            "bottom": null,
            "display": null,
            "flex": null,
            "flex_flow": null,
            "grid_area": null,
            "grid_auto_columns": null,
            "grid_auto_flow": null,
            "grid_auto_rows": null,
            "grid_column": null,
            "grid_gap": null,
            "grid_row": null,
            "grid_template_areas": null,
            "grid_template_columns": null,
            "grid_template_rows": null,
            "height": null,
            "justify_content": null,
            "justify_items": null,
            "left": null,
            "margin": null,
            "max_height": null,
            "max_width": null,
            "min_height": null,
            "min_width": null,
            "object_fit": null,
            "object_position": null,
            "order": null,
            "overflow": null,
            "overflow_x": null,
            "overflow_y": null,
            "padding": null,
            "right": null,
            "top": null,
            "visibility": null,
            "width": null
          }
        },
        "1e9cfa86a6ed409988791e9646ae6c49": {
          "model_module": "@jupyter-widgets/controls",
          "model_name": "DescriptionStyleModel",
          "model_module_version": "1.5.0",
          "state": {
            "_model_module": "@jupyter-widgets/controls",
            "_model_module_version": "1.5.0",
            "_model_name": "DescriptionStyleModel",
            "_view_count": null,
            "_view_module": "@jupyter-widgets/base",
            "_view_module_version": "1.2.0",
            "_view_name": "StyleView",
            "description_width": ""
          }
        },
        "56b797c857024e988ae5ac59827de256": {
          "model_module": "@jupyter-widgets/base",
          "model_name": "LayoutModel",
          "model_module_version": "1.2.0",
          "state": {
            "_model_module": "@jupyter-widgets/base",
            "_model_module_version": "1.2.0",
            "_model_name": "LayoutModel",
            "_view_count": null,
            "_view_module": "@jupyter-widgets/base",
            "_view_module_version": "1.2.0",
            "_view_name": "LayoutView",
            "align_content": null,
            "align_items": null,
            "align_self": null,
            "border": null,
            "bottom": null,
            "display": null,
            "flex": null,
            "flex_flow": null,
            "grid_area": null,
            "grid_auto_columns": null,
            "grid_auto_flow": null,
            "grid_auto_rows": null,
            "grid_column": null,
            "grid_gap": null,
            "grid_row": null,
            "grid_template_areas": null,
            "grid_template_columns": null,
            "grid_template_rows": null,
            "height": null,
            "justify_content": null,
            "justify_items": null,
            "left": null,
            "margin": null,
            "max_height": null,
            "max_width": null,
            "min_height": null,
            "min_width": null,
            "object_fit": null,
            "object_position": null,
            "order": null,
            "overflow": null,
            "overflow_x": null,
            "overflow_y": null,
            "padding": null,
            "right": null,
            "top": null,
            "visibility": null,
            "width": null
          }
        },
        "91caba45a47e4d698c86b9522ccf0ac9": {
          "model_module": "@jupyter-widgets/controls",
          "model_name": "ProgressStyleModel",
          "model_module_version": "1.5.0",
          "state": {
            "_model_module": "@jupyter-widgets/controls",
            "_model_module_version": "1.5.0",
            "_model_name": "ProgressStyleModel",
            "_view_count": null,
            "_view_module": "@jupyter-widgets/base",
            "_view_module_version": "1.2.0",
            "_view_name": "StyleView",
            "bar_color": null,
            "description_width": ""
          }
        },
        "550ff750422448deb4c5bfb717422691": {
          "model_module": "@jupyter-widgets/base",
          "model_name": "LayoutModel",
          "model_module_version": "1.2.0",
          "state": {
            "_model_module": "@jupyter-widgets/base",
            "_model_module_version": "1.2.0",
            "_model_name": "LayoutModel",
            "_view_count": null,
            "_view_module": "@jupyter-widgets/base",
            "_view_module_version": "1.2.0",
            "_view_name": "LayoutView",
            "align_content": null,
            "align_items": null,
            "align_self": null,
            "border": null,
            "bottom": null,
            "display": null,
            "flex": null,
            "flex_flow": null,
            "grid_area": null,
            "grid_auto_columns": null,
            "grid_auto_flow": null,
            "grid_auto_rows": null,
            "grid_column": null,
            "grid_gap": null,
            "grid_row": null,
            "grid_template_areas": null,
            "grid_template_columns": null,
            "grid_template_rows": null,
            "height": null,
            "justify_content": null,
            "justify_items": null,
            "left": null,
            "margin": null,
            "max_height": null,
            "max_width": null,
            "min_height": null,
            "min_width": null,
            "object_fit": null,
            "object_position": null,
            "order": null,
            "overflow": null,
            "overflow_x": null,
            "overflow_y": null,
            "padding": null,
            "right": null,
            "top": null,
            "visibility": null,
            "width": null
          }
        },
        "443168863a7141a297fb3ac725b93152": {
          "model_module": "@jupyter-widgets/controls",
          "model_name": "DescriptionStyleModel",
          "model_module_version": "1.5.0",
          "state": {
            "_model_module": "@jupyter-widgets/controls",
            "_model_module_version": "1.5.0",
            "_model_name": "DescriptionStyleModel",
            "_view_count": null,
            "_view_module": "@jupyter-widgets/base",
            "_view_module_version": "1.2.0",
            "_view_name": "StyleView",
            "description_width": ""
          }
        },
        "ddc8fc4153ea42b8840894428ea3f9f1": {
          "model_module": "@jupyter-widgets/controls",
          "model_name": "HBoxModel",
          "model_module_version": "1.5.0",
          "state": {
            "_dom_classes": [],
            "_model_module": "@jupyter-widgets/controls",
            "_model_module_version": "1.5.0",
            "_model_name": "HBoxModel",
            "_view_count": null,
            "_view_module": "@jupyter-widgets/controls",
            "_view_module_version": "1.5.0",
            "_view_name": "HBoxView",
            "box_style": "",
            "children": [
              "IPY_MODEL_3d501f8ca13449f6bd3c3b1814fdf076",
              "IPY_MODEL_a59dd677727b44b6b09a943444291b22",
              "IPY_MODEL_25bd5fa439b74c18a0db568c7007a659"
            ],
            "layout": "IPY_MODEL_695e0167bc3a4e34a0616e8ba6a37e8f"
          }
        },
        "3d501f8ca13449f6bd3c3b1814fdf076": {
          "model_module": "@jupyter-widgets/controls",
          "model_name": "HTMLModel",
          "model_module_version": "1.5.0",
          "state": {
            "_dom_classes": [],
            "_model_module": "@jupyter-widgets/controls",
            "_model_module_version": "1.5.0",
            "_model_name": "HTMLModel",
            "_view_count": null,
            "_view_module": "@jupyter-widgets/controls",
            "_view_module_version": "1.5.0",
            "_view_name": "HTMLView",
            "description": "",
            "description_tooltip": null,
            "layout": "IPY_MODEL_f9c48ea7c82e479f9deaed48bd44e3ca",
            "placeholder": "​",
            "style": "IPY_MODEL_cf429f8a54f5479cb5ea99965a152cac",
            "value": "vocab.txt: 100%"
          }
        },
        "a59dd677727b44b6b09a943444291b22": {
          "model_module": "@jupyter-widgets/controls",
          "model_name": "FloatProgressModel",
          "model_module_version": "1.5.0",
          "state": {
            "_dom_classes": [],
            "_model_module": "@jupyter-widgets/controls",
            "_model_module_version": "1.5.0",
            "_model_name": "FloatProgressModel",
            "_view_count": null,
            "_view_module": "@jupyter-widgets/controls",
            "_view_module_version": "1.5.0",
            "_view_name": "ProgressView",
            "bar_style": "success",
            "description": "",
            "description_tooltip": null,
            "layout": "IPY_MODEL_b5935d2713c546928c817a608e734b0b",
            "max": 2237676,
            "min": 0,
            "orientation": "horizontal",
            "style": "IPY_MODEL_9f2943a170d84f5895ab0f7feb7f248b",
            "value": 2237676
          }
        },
        "25bd5fa439b74c18a0db568c7007a659": {
          "model_module": "@jupyter-widgets/controls",
          "model_name": "HTMLModel",
          "model_module_version": "1.5.0",
          "state": {
            "_dom_classes": [],
            "_model_module": "@jupyter-widgets/controls",
            "_model_module_version": "1.5.0",
            "_model_name": "HTMLModel",
            "_view_count": null,
            "_view_module": "@jupyter-widgets/controls",
            "_view_module_version": "1.5.0",
            "_view_name": "HTMLView",
            "description": "",
            "description_tooltip": null,
            "layout": "IPY_MODEL_e05877cc24ab45738d569f575e0a2b5c",
            "placeholder": "​",
            "style": "IPY_MODEL_51f90f8bd0f34795a9bc86fc8716fd97",
            "value": " 2.24M/2.24M [00:00&lt;00:00, 4.88MB/s]"
          }
        },
        "695e0167bc3a4e34a0616e8ba6a37e8f": {
          "model_module": "@jupyter-widgets/base",
          "model_name": "LayoutModel",
          "model_module_version": "1.2.0",
          "state": {
            "_model_module": "@jupyter-widgets/base",
            "_model_module_version": "1.2.0",
            "_model_name": "LayoutModel",
            "_view_count": null,
            "_view_module": "@jupyter-widgets/base",
            "_view_module_version": "1.2.0",
            "_view_name": "LayoutView",
            "align_content": null,
            "align_items": null,
            "align_self": null,
            "border": null,
            "bottom": null,
            "display": null,
            "flex": null,
            "flex_flow": null,
            "grid_area": null,
            "grid_auto_columns": null,
            "grid_auto_flow": null,
            "grid_auto_rows": null,
            "grid_column": null,
            "grid_gap": null,
            "grid_row": null,
            "grid_template_areas": null,
            "grid_template_columns": null,
            "grid_template_rows": null,
            "height": null,
            "justify_content": null,
            "justify_items": null,
            "left": null,
            "margin": null,
            "max_height": null,
            "max_width": null,
            "min_height": null,
            "min_width": null,
            "object_fit": null,
            "object_position": null,
            "order": null,
            "overflow": null,
            "overflow_x": null,
            "overflow_y": null,
            "padding": null,
            "right": null,
            "top": null,
            "visibility": null,
            "width": null
          }
        },
        "f9c48ea7c82e479f9deaed48bd44e3ca": {
          "model_module": "@jupyter-widgets/base",
          "model_name": "LayoutModel",
          "model_module_version": "1.2.0",
          "state": {
            "_model_module": "@jupyter-widgets/base",
            "_model_module_version": "1.2.0",
            "_model_name": "LayoutModel",
            "_view_count": null,
            "_view_module": "@jupyter-widgets/base",
            "_view_module_version": "1.2.0",
            "_view_name": "LayoutView",
            "align_content": null,
            "align_items": null,
            "align_self": null,
            "border": null,
            "bottom": null,
            "display": null,
            "flex": null,
            "flex_flow": null,
            "grid_area": null,
            "grid_auto_columns": null,
            "grid_auto_flow": null,
            "grid_auto_rows": null,
            "grid_column": null,
            "grid_gap": null,
            "grid_row": null,
            "grid_template_areas": null,
            "grid_template_columns": null,
            "grid_template_rows": null,
            "height": null,
            "justify_content": null,
            "justify_items": null,
            "left": null,
            "margin": null,
            "max_height": null,
            "max_width": null,
            "min_height": null,
            "min_width": null,
            "object_fit": null,
            "object_position": null,
            "order": null,
            "overflow": null,
            "overflow_x": null,
            "overflow_y": null,
            "padding": null,
            "right": null,
            "top": null,
            "visibility": null,
            "width": null
          }
        },
        "cf429f8a54f5479cb5ea99965a152cac": {
          "model_module": "@jupyter-widgets/controls",
          "model_name": "DescriptionStyleModel",
          "model_module_version": "1.5.0",
          "state": {
            "_model_module": "@jupyter-widgets/controls",
            "_model_module_version": "1.5.0",
            "_model_name": "DescriptionStyleModel",
            "_view_count": null,
            "_view_module": "@jupyter-widgets/base",
            "_view_module_version": "1.2.0",
            "_view_name": "StyleView",
            "description_width": ""
          }
        },
        "b5935d2713c546928c817a608e734b0b": {
          "model_module": "@jupyter-widgets/base",
          "model_name": "LayoutModel",
          "model_module_version": "1.2.0",
          "state": {
            "_model_module": "@jupyter-widgets/base",
            "_model_module_version": "1.2.0",
            "_model_name": "LayoutModel",
            "_view_count": null,
            "_view_module": "@jupyter-widgets/base",
            "_view_module_version": "1.2.0",
            "_view_name": "LayoutView",
            "align_content": null,
            "align_items": null,
            "align_self": null,
            "border": null,
            "bottom": null,
            "display": null,
            "flex": null,
            "flex_flow": null,
            "grid_area": null,
            "grid_auto_columns": null,
            "grid_auto_flow": null,
            "grid_auto_rows": null,
            "grid_column": null,
            "grid_gap": null,
            "grid_row": null,
            "grid_template_areas": null,
            "grid_template_columns": null,
            "grid_template_rows": null,
            "height": null,
            "justify_content": null,
            "justify_items": null,
            "left": null,
            "margin": null,
            "max_height": null,
            "max_width": null,
            "min_height": null,
            "min_width": null,
            "object_fit": null,
            "object_position": null,
            "order": null,
            "overflow": null,
            "overflow_x": null,
            "overflow_y": null,
            "padding": null,
            "right": null,
            "top": null,
            "visibility": null,
            "width": null
          }
        },
        "9f2943a170d84f5895ab0f7feb7f248b": {
          "model_module": "@jupyter-widgets/controls",
          "model_name": "ProgressStyleModel",
          "model_module_version": "1.5.0",
          "state": {
            "_model_module": "@jupyter-widgets/controls",
            "_model_module_version": "1.5.0",
            "_model_name": "ProgressStyleModel",
            "_view_count": null,
            "_view_module": "@jupyter-widgets/base",
            "_view_module_version": "1.2.0",
            "_view_name": "StyleView",
            "bar_color": null,
            "description_width": ""
          }
        },
        "e05877cc24ab45738d569f575e0a2b5c": {
          "model_module": "@jupyter-widgets/base",
          "model_name": "LayoutModel",
          "model_module_version": "1.2.0",
          "state": {
            "_model_module": "@jupyter-widgets/base",
            "_model_module_version": "1.2.0",
            "_model_name": "LayoutModel",
            "_view_count": null,
            "_view_module": "@jupyter-widgets/base",
            "_view_module_version": "1.2.0",
            "_view_name": "LayoutView",
            "align_content": null,
            "align_items": null,
            "align_self": null,
            "border": null,
            "bottom": null,
            "display": null,
            "flex": null,
            "flex_flow": null,
            "grid_area": null,
            "grid_auto_columns": null,
            "grid_auto_flow": null,
            "grid_auto_rows": null,
            "grid_column": null,
            "grid_gap": null,
            "grid_row": null,
            "grid_template_areas": null,
            "grid_template_columns": null,
            "grid_template_rows": null,
            "height": null,
            "justify_content": null,
            "justify_items": null,
            "left": null,
            "margin": null,
            "max_height": null,
            "max_width": null,
            "min_height": null,
            "min_width": null,
            "object_fit": null,
            "object_position": null,
            "order": null,
            "overflow": null,
            "overflow_x": null,
            "overflow_y": null,
            "padding": null,
            "right": null,
            "top": null,
            "visibility": null,
            "width": null
          }
        },
        "51f90f8bd0f34795a9bc86fc8716fd97": {
          "model_module": "@jupyter-widgets/controls",
          "model_name": "DescriptionStyleModel",
          "model_module_version": "1.5.0",
          "state": {
            "_model_module": "@jupyter-widgets/controls",
            "_model_module_version": "1.5.0",
            "_model_name": "DescriptionStyleModel",
            "_view_count": null,
            "_view_module": "@jupyter-widgets/base",
            "_view_module_version": "1.2.0",
            "_view_name": "StyleView",
            "description_width": ""
          }
        },
        "c8ab0737e70c47cc8cef9fe042eee22e": {
          "model_module": "@jupyter-widgets/controls",
          "model_name": "HBoxModel",
          "model_module_version": "1.5.0",
          "state": {
            "_dom_classes": [],
            "_model_module": "@jupyter-widgets/controls",
            "_model_module_version": "1.5.0",
            "_model_name": "HBoxModel",
            "_view_count": null,
            "_view_module": "@jupyter-widgets/controls",
            "_view_module_version": "1.5.0",
            "_view_name": "HBoxView",
            "box_style": "",
            "children": [
              "IPY_MODEL_c988098475434f0ba8d144f08501f280",
              "IPY_MODEL_ebbd8cbc536844debda908702acab04b",
              "IPY_MODEL_d11fca40e2424a89b625aaee5ab48aa6"
            ],
            "layout": "IPY_MODEL_a9493aa3d9094e47bbc1981ca266bbe6"
          }
        },
        "c988098475434f0ba8d144f08501f280": {
          "model_module": "@jupyter-widgets/controls",
          "model_name": "HTMLModel",
          "model_module_version": "1.5.0",
          "state": {
            "_dom_classes": [],
            "_model_module": "@jupyter-widgets/controls",
            "_model_module_version": "1.5.0",
            "_model_name": "HTMLModel",
            "_view_count": null,
            "_view_module": "@jupyter-widgets/controls",
            "_view_module_version": "1.5.0",
            "_view_name": "HTMLView",
            "description": "",
            "description_tooltip": null,
            "layout": "IPY_MODEL_5a324362400e4f17bf94f5140e892b57",
            "placeholder": "​",
            "style": "IPY_MODEL_7724dac6b23d47cf970c09d53ce05249",
            "value": "model.safetensors: 100%"
          }
        },
        "ebbd8cbc536844debda908702acab04b": {
          "model_module": "@jupyter-widgets/controls",
          "model_name": "FloatProgressModel",
          "model_module_version": "1.5.0",
          "state": {
            "_dom_classes": [],
            "_model_module": "@jupyter-widgets/controls",
            "_model_module_version": "1.5.0",
            "_model_name": "FloatProgressModel",
            "_view_count": null,
            "_view_module": "@jupyter-widgets/controls",
            "_view_module_version": "1.5.0",
            "_view_name": "ProgressView",
            "bar_style": "success",
            "description": "",
            "description_tooltip": null,
            "layout": "IPY_MODEL_b69ccb52362f4e729cde4d6fdfaed60c",
            "max": 660393036,
            "min": 0,
            "orientation": "horizontal",
            "style": "IPY_MODEL_355d5d33725b435ab6a2a9539a9a124f",
            "value": 660393036
          }
        },
        "d11fca40e2424a89b625aaee5ab48aa6": {
          "model_module": "@jupyter-widgets/controls",
          "model_name": "HTMLModel",
          "model_module_version": "1.5.0",
          "state": {
            "_dom_classes": [],
            "_model_module": "@jupyter-widgets/controls",
            "_model_module_version": "1.5.0",
            "_model_name": "HTMLModel",
            "_view_count": null,
            "_view_module": "@jupyter-widgets/controls",
            "_view_module_version": "1.5.0",
            "_view_name": "HTMLView",
            "description": "",
            "description_tooltip": null,
            "layout": "IPY_MODEL_19546bad4b024e4296e8e915e0270d0a",
            "placeholder": "​",
            "style": "IPY_MODEL_7ba9e1bc9ecb453daa04a1b28b3363e6",
            "value": " 660M/660M [00:30&lt;00:00, 22.1MB/s]"
          }
        },
        "a9493aa3d9094e47bbc1981ca266bbe6": {
          "model_module": "@jupyter-widgets/base",
          "model_name": "LayoutModel",
          "model_module_version": "1.2.0",
          "state": {
            "_model_module": "@jupyter-widgets/base",
            "_model_module_version": "1.2.0",
            "_model_name": "LayoutModel",
            "_view_count": null,
            "_view_module": "@jupyter-widgets/base",
            "_view_module_version": "1.2.0",
            "_view_name": "LayoutView",
            "align_content": null,
            "align_items": null,
            "align_self": null,
            "border": null,
            "bottom": null,
            "display": null,
            "flex": null,
            "flex_flow": null,
            "grid_area": null,
            "grid_auto_columns": null,
            "grid_auto_flow": null,
            "grid_auto_rows": null,
            "grid_column": null,
            "grid_gap": null,
            "grid_row": null,
            "grid_template_areas": null,
            "grid_template_columns": null,
            "grid_template_rows": null,
            "height": null,
            "justify_content": null,
            "justify_items": null,
            "left": null,
            "margin": null,
            "max_height": null,
            "max_width": null,
            "min_height": null,
            "min_width": null,
            "object_fit": null,
            "object_position": null,
            "order": null,
            "overflow": null,
            "overflow_x": null,
            "overflow_y": null,
            "padding": null,
            "right": null,
            "top": null,
            "visibility": null,
            "width": null
          }
        },
        "5a324362400e4f17bf94f5140e892b57": {
          "model_module": "@jupyter-widgets/base",
          "model_name": "LayoutModel",
          "model_module_version": "1.2.0",
          "state": {
            "_model_module": "@jupyter-widgets/base",
            "_model_module_version": "1.2.0",
            "_model_name": "LayoutModel",
            "_view_count": null,
            "_view_module": "@jupyter-widgets/base",
            "_view_module_version": "1.2.0",
            "_view_name": "LayoutView",
            "align_content": null,
            "align_items": null,
            "align_self": null,
            "border": null,
            "bottom": null,
            "display": null,
            "flex": null,
            "flex_flow": null,
            "grid_area": null,
            "grid_auto_columns": null,
            "grid_auto_flow": null,
            "grid_auto_rows": null,
            "grid_column": null,
            "grid_gap": null,
            "grid_row": null,
            "grid_template_areas": null,
            "grid_template_columns": null,
            "grid_template_rows": null,
            "height": null,
            "justify_content": null,
            "justify_items": null,
            "left": null,
            "margin": null,
            "max_height": null,
            "max_width": null,
            "min_height": null,
            "min_width": null,
            "object_fit": null,
            "object_position": null,
            "order": null,
            "overflow": null,
            "overflow_x": null,
            "overflow_y": null,
            "padding": null,
            "right": null,
            "top": null,
            "visibility": null,
            "width": null
          }
        },
        "7724dac6b23d47cf970c09d53ce05249": {
          "model_module": "@jupyter-widgets/controls",
          "model_name": "DescriptionStyleModel",
          "model_module_version": "1.5.0",
          "state": {
            "_model_module": "@jupyter-widgets/controls",
            "_model_module_version": "1.5.0",
            "_model_name": "DescriptionStyleModel",
            "_view_count": null,
            "_view_module": "@jupyter-widgets/base",
            "_view_module_version": "1.2.0",
            "_view_name": "StyleView",
            "description_width": ""
          }
        },
        "b69ccb52362f4e729cde4d6fdfaed60c": {
          "model_module": "@jupyter-widgets/base",
          "model_name": "LayoutModel",
          "model_module_version": "1.2.0",
          "state": {
            "_model_module": "@jupyter-widgets/base",
            "_model_module_version": "1.2.0",
            "_model_name": "LayoutModel",
            "_view_count": null,
            "_view_module": "@jupyter-widgets/base",
            "_view_module_version": "1.2.0",
            "_view_name": "LayoutView",
            "align_content": null,
            "align_items": null,
            "align_self": null,
            "border": null,
            "bottom": null,
            "display": null,
            "flex": null,
            "flex_flow": null,
            "grid_area": null,
            "grid_auto_columns": null,
            "grid_auto_flow": null,
            "grid_auto_rows": null,
            "grid_column": null,
            "grid_gap": null,
            "grid_row": null,
            "grid_template_areas": null,
            "grid_template_columns": null,
            "grid_template_rows": null,
            "height": null,
            "justify_content": null,
            "justify_items": null,
            "left": null,
            "margin": null,
            "max_height": null,
            "max_width": null,
            "min_height": null,
            "min_width": null,
            "object_fit": null,
            "object_position": null,
            "order": null,
            "overflow": null,
            "overflow_x": null,
            "overflow_y": null,
            "padding": null,
            "right": null,
            "top": null,
            "visibility": null,
            "width": null
          }
        },
        "355d5d33725b435ab6a2a9539a9a124f": {
          "model_module": "@jupyter-widgets/controls",
          "model_name": "ProgressStyleModel",
          "model_module_version": "1.5.0",
          "state": {
            "_model_module": "@jupyter-widgets/controls",
            "_model_module_version": "1.5.0",
            "_model_name": "ProgressStyleModel",
            "_view_count": null,
            "_view_module": "@jupyter-widgets/base",
            "_view_module_version": "1.2.0",
            "_view_name": "StyleView",
            "bar_color": null,
            "description_width": ""
          }
        },
        "19546bad4b024e4296e8e915e0270d0a": {
          "model_module": "@jupyter-widgets/base",
          "model_name": "LayoutModel",
          "model_module_version": "1.2.0",
          "state": {
            "_model_module": "@jupyter-widgets/base",
            "_model_module_version": "1.2.0",
            "_model_name": "LayoutModel",
            "_view_count": null,
            "_view_module": "@jupyter-widgets/base",
            "_view_module_version": "1.2.0",
            "_view_name": "LayoutView",
            "align_content": null,
            "align_items": null,
            "align_self": null,
            "border": null,
            "bottom": null,
            "display": null,
            "flex": null,
            "flex_flow": null,
            "grid_area": null,
            "grid_auto_columns": null,
            "grid_auto_flow": null,
            "grid_auto_rows": null,
            "grid_column": null,
            "grid_gap": null,
            "grid_row": null,
            "grid_template_areas": null,
            "grid_template_columns": null,
            "grid_template_rows": null,
            "height": null,
            "justify_content": null,
            "justify_items": null,
            "left": null,
            "margin": null,
            "max_height": null,
            "max_width": null,
            "min_height": null,
            "min_width": null,
            "object_fit": null,
            "object_position": null,
            "order": null,
            "overflow": null,
            "overflow_x": null,
            "overflow_y": null,
            "padding": null,
            "right": null,
            "top": null,
            "visibility": null,
            "width": null
          }
        },
        "7ba9e1bc9ecb453daa04a1b28b3363e6": {
          "model_module": "@jupyter-widgets/controls",
          "model_name": "DescriptionStyleModel",
          "model_module_version": "1.5.0",
          "state": {
            "_model_module": "@jupyter-widgets/controls",
            "_model_module_version": "1.5.0",
            "_model_name": "DescriptionStyleModel",
            "_view_count": null,
            "_view_module": "@jupyter-widgets/base",
            "_view_module_version": "1.2.0",
            "_view_name": "StyleView",
            "description_width": ""
          }
        }
      }
    }
  },
  "cells": [
    {
      "cell_type": "markdown",
      "source": [
        "#Trail 01"
      ],
      "metadata": {
        "id": "dx01SwQ0rxDr"
      }
    },
    {
      "cell_type": "code",
      "execution_count": null,
      "metadata": {
        "colab": {
          "base_uri": "https://localhost:8080/"
        },
        "id": "sceMEyKznVaf",
        "outputId": "6aa17c2f-56af-4822-87d8-91ad4319d549"
      },
      "outputs": [
        {
          "output_type": "stream",
          "name": "stdout",
          "text": [
            "CSV file generated: medical_intent_classification_bangla01.csv\n"
          ]
        }
      ],
      "source": [
        "import csv\n",
        "import random\n",
        "\n",
        "# Define 30 sample intents (translate as needed)\n",
        "intents = [\n",
        "    \"ফ্লু-এর মতো উপসর্গ\", \"হৃদরোগের আশঙ্কা\", \"ত্বকের সমস্যা\", \"দীর্ঘস্থায়ী ক্লান্তি\",\n",
        "    \"পাচনতন্ত্রের সমস্যা\", \"চোখের সমস্যা\", \"শ্বাসকষ্ট সমস্যা\", \"মাথাব্যথা\",\n",
        "    \"দাঁতের সমস্যা\", \"হাড় বা জয়েন্টের ব্যথা\", \"মাংসপেশীর সমস্যা\", \"স্নায়বিক সমস্যা\",\n",
        "    \"ঘুমের সমস্যা\", \"মূত্রনালীর সমস্যা\", \"সর্দি-কাশি\", \"বমি ভাব\", \"অ্যালার্জি\",\n",
        "    \"বুক ধড়ফড়\", \"জ্বর\", \"কণ্ঠে ব্যথা\", \"হজমের সমস্যা\", \"পিঠের ব্যথা\", \"পেটে ফোলাভাব\",\n",
        "    \"কোষ্ঠকাঠিন্য\", \"ইনফেকশন\", \"চুলকানি\", \"হাঁপানি\", \"রক্তচাপ সমস্যা\", \"অবসাদ\", \"ডায়াবেটিসের লক্ষণ\"\n",
        "]\n",
        "\n",
        "# Generate symptom descriptions\n",
        "def generate_description(intent):\n",
        "    symptoms = [\n",
        "        \"আমার \", \"সামান্য \", \"গত কয়েকদিন ধরে \", \"অবিরত \", \"হালকা \", \"অনেক তীব্র \",\n",
        "        \"খুবই অস্বস্তিকর \", \"একের পর এক \", \"সপ্তাহব্যাপী \", \"প্রতিদিন \"\n",
        "    ]\n",
        "    parts = [\n",
        "        \"জ্বর হচ্ছে\", \"শরীরে ব্যথা\", \"শ্বাসকষ্ট অনুভব করছি\", \"পেটে ব্যথা হচ্ছে\",\n",
        "        \"ঘাড় ব্যথা হচ্ছে\", \"মাথা ঘুরছে\", \"ত্বকে র‍্যাশ\", \"চোখে ব্যথা\", \"কণ্ঠে ব্যথা\",\n",
        "        \"শরীর ক্লান্ত\", \"পেট ফোলা\", \"মাংসপেশী টান\", \"বুকে ব্যথা\", \"বমি ভাব\", \"গাঁটে ব্যথা\",\n",
        "        \"চুলকানি হচ্ছে\"\n",
        "    ]\n",
        "    return f\"{random.choice(symptoms)}{random.choice(parts)}।\"\n",
        "\n",
        "# Generate dataset\n",
        "dataset = []\n",
        "for i in range(3000):\n",
        "    intent = random.choice(intents)\n",
        "    description = generate_description(intent)\n",
        "    dataset.append([i + 1, description, intent])\n",
        "\n",
        "# Save to CSV\n",
        "with open(\"medical_intent_classification_bangla01.csv\", \"w\", newline=\"\", encoding=\"utf-8\") as file:\n",
        "    writer = csv.writer(file)\n",
        "    writer.writerow([\"ID\", \"উপসর্গের বিবরণ\", \"উদ্দেশ্য\"])\n",
        "    writer.writerows(dataset)\n",
        "\n",
        "print(\"CSV file generated: medical_intent_classification_bangla01.csv\")"
      ]
    },
    {
      "cell_type": "markdown",
      "source": [
        "#Check"
      ],
      "metadata": {
        "id": "Paso2_n6qVNl"
      }
    },
    {
      "cell_type": "code",
      "source": [
        "import pandas as pd\n",
        "\n",
        "df = pd.read_csv(\"/content/medical_intent_classification_bangla01.csv\", encoding=\"utf-8\")"
      ],
      "metadata": {
        "id": "8Q6xrXWUqWdl"
      },
      "execution_count": null,
      "outputs": []
    },
    {
      "cell_type": "code",
      "source": [
        "df.head()"
      ],
      "metadata": {
        "colab": {
          "base_uri": "https://localhost:8080/",
          "height": 206
        },
        "id": "zDu62OACqXnt",
        "outputId": "8076770f-1d83-40b5-ae6a-50c0532701df"
      },
      "execution_count": null,
      "outputs": [
        {
          "output_type": "execute_result",
          "data": {
            "text/plain": [
              "   ID                  উপসর্গের বিবরণ            উদ্দেশ্য\n",
              "0   1   খুবই অস্বস্তিকর মাংসপেশী টান।  ফ্লু-এর মতো উপসর্গ\n",
              "1   2       সপ্তাহব্যাপী শরীরে ব্যথা।               অবসাদ\n",
              "2   3  সপ্তাহব্যাপী পেটে ব্যথা হচ্ছে।             ইনফেকশন\n",
              "3   4        অনেক তীব্র ত্বকে র‍্যাশ।   মূত্রনালীর সমস্যা\n",
              "4   5   খুবই অস্বস্তিকর ত্বকে র‍্যাশ।       ত্বকের সমস্যা"
            ],
            "text/html": [
              "\n",
              "  <div id=\"df-158839dd-c87b-493c-aafe-aca7f7f78842\" class=\"colab-df-container\">\n",
              "    <div>\n",
              "<style scoped>\n",
              "    .dataframe tbody tr th:only-of-type {\n",
              "        vertical-align: middle;\n",
              "    }\n",
              "\n",
              "    .dataframe tbody tr th {\n",
              "        vertical-align: top;\n",
              "    }\n",
              "\n",
              "    .dataframe thead th {\n",
              "        text-align: right;\n",
              "    }\n",
              "</style>\n",
              "<table border=\"1\" class=\"dataframe\">\n",
              "  <thead>\n",
              "    <tr style=\"text-align: right;\">\n",
              "      <th></th>\n",
              "      <th>ID</th>\n",
              "      <th>উপসর্গের বিবরণ</th>\n",
              "      <th>উদ্দেশ্য</th>\n",
              "    </tr>\n",
              "  </thead>\n",
              "  <tbody>\n",
              "    <tr>\n",
              "      <th>0</th>\n",
              "      <td>1</td>\n",
              "      <td>খুবই অস্বস্তিকর মাংসপেশী টান।</td>\n",
              "      <td>ফ্লু-এর মতো উপসর্গ</td>\n",
              "    </tr>\n",
              "    <tr>\n",
              "      <th>1</th>\n",
              "      <td>2</td>\n",
              "      <td>সপ্তাহব্যাপী শরীরে ব্যথা।</td>\n",
              "      <td>অবসাদ</td>\n",
              "    </tr>\n",
              "    <tr>\n",
              "      <th>2</th>\n",
              "      <td>3</td>\n",
              "      <td>সপ্তাহব্যাপী পেটে ব্যথা হচ্ছে।</td>\n",
              "      <td>ইনফেকশন</td>\n",
              "    </tr>\n",
              "    <tr>\n",
              "      <th>3</th>\n",
              "      <td>4</td>\n",
              "      <td>অনেক তীব্র ত্বকে র‍্যাশ।</td>\n",
              "      <td>মূত্রনালীর সমস্যা</td>\n",
              "    </tr>\n",
              "    <tr>\n",
              "      <th>4</th>\n",
              "      <td>5</td>\n",
              "      <td>খুবই অস্বস্তিকর ত্বকে র‍্যাশ।</td>\n",
              "      <td>ত্বকের সমস্যা</td>\n",
              "    </tr>\n",
              "  </tbody>\n",
              "</table>\n",
              "</div>\n",
              "    <div class=\"colab-df-buttons\">\n",
              "\n",
              "  <div class=\"colab-df-container\">\n",
              "    <button class=\"colab-df-convert\" onclick=\"convertToInteractive('df-158839dd-c87b-493c-aafe-aca7f7f78842')\"\n",
              "            title=\"Convert this dataframe to an interactive table.\"\n",
              "            style=\"display:none;\">\n",
              "\n",
              "  <svg xmlns=\"http://www.w3.org/2000/svg\" height=\"24px\" viewBox=\"0 -960 960 960\">\n",
              "    <path d=\"M120-120v-720h720v720H120Zm60-500h600v-160H180v160Zm220 220h160v-160H400v160Zm0 220h160v-160H400v160ZM180-400h160v-160H180v160Zm440 0h160v-160H620v160ZM180-180h160v-160H180v160Zm440 0h160v-160H620v160Z\"/>\n",
              "  </svg>\n",
              "    </button>\n",
              "\n",
              "  <style>\n",
              "    .colab-df-container {\n",
              "      display:flex;\n",
              "      gap: 12px;\n",
              "    }\n",
              "\n",
              "    .colab-df-convert {\n",
              "      background-color: #E8F0FE;\n",
              "      border: none;\n",
              "      border-radius: 50%;\n",
              "      cursor: pointer;\n",
              "      display: none;\n",
              "      fill: #1967D2;\n",
              "      height: 32px;\n",
              "      padding: 0 0 0 0;\n",
              "      width: 32px;\n",
              "    }\n",
              "\n",
              "    .colab-df-convert:hover {\n",
              "      background-color: #E2EBFA;\n",
              "      box-shadow: 0px 1px 2px rgba(60, 64, 67, 0.3), 0px 1px 3px 1px rgba(60, 64, 67, 0.15);\n",
              "      fill: #174EA6;\n",
              "    }\n",
              "\n",
              "    .colab-df-buttons div {\n",
              "      margin-bottom: 4px;\n",
              "    }\n",
              "\n",
              "    [theme=dark] .colab-df-convert {\n",
              "      background-color: #3B4455;\n",
              "      fill: #D2E3FC;\n",
              "    }\n",
              "\n",
              "    [theme=dark] .colab-df-convert:hover {\n",
              "      background-color: #434B5C;\n",
              "      box-shadow: 0px 1px 3px 1px rgba(0, 0, 0, 0.15);\n",
              "      filter: drop-shadow(0px 1px 2px rgba(0, 0, 0, 0.3));\n",
              "      fill: #FFFFFF;\n",
              "    }\n",
              "  </style>\n",
              "\n",
              "    <script>\n",
              "      const buttonEl =\n",
              "        document.querySelector('#df-158839dd-c87b-493c-aafe-aca7f7f78842 button.colab-df-convert');\n",
              "      buttonEl.style.display =\n",
              "        google.colab.kernel.accessAllowed ? 'block' : 'none';\n",
              "\n",
              "      async function convertToInteractive(key) {\n",
              "        const element = document.querySelector('#df-158839dd-c87b-493c-aafe-aca7f7f78842');\n",
              "        const dataTable =\n",
              "          await google.colab.kernel.invokeFunction('convertToInteractive',\n",
              "                                                    [key], {});\n",
              "        if (!dataTable) return;\n",
              "\n",
              "        const docLinkHtml = 'Like what you see? Visit the ' +\n",
              "          '<a target=\"_blank\" href=https://colab.research.google.com/notebooks/data_table.ipynb>data table notebook</a>'\n",
              "          + ' to learn more about interactive tables.';\n",
              "        element.innerHTML = '';\n",
              "        dataTable['output_type'] = 'display_data';\n",
              "        await google.colab.output.renderOutput(dataTable, element);\n",
              "        const docLink = document.createElement('div');\n",
              "        docLink.innerHTML = docLinkHtml;\n",
              "        element.appendChild(docLink);\n",
              "      }\n",
              "    </script>\n",
              "  </div>\n",
              "\n",
              "\n",
              "<div id=\"df-dba4f6ce-7253-41d0-afae-2bb33132022a\">\n",
              "  <button class=\"colab-df-quickchart\" onclick=\"quickchart('df-dba4f6ce-7253-41d0-afae-2bb33132022a')\"\n",
              "            title=\"Suggest charts\"\n",
              "            style=\"display:none;\">\n",
              "\n",
              "<svg xmlns=\"http://www.w3.org/2000/svg\" height=\"24px\"viewBox=\"0 0 24 24\"\n",
              "     width=\"24px\">\n",
              "    <g>\n",
              "        <path d=\"M19 3H5c-1.1 0-2 .9-2 2v14c0 1.1.9 2 2 2h14c1.1 0 2-.9 2-2V5c0-1.1-.9-2-2-2zM9 17H7v-7h2v7zm4 0h-2V7h2v10zm4 0h-2v-4h2v4z\"/>\n",
              "    </g>\n",
              "</svg>\n",
              "  </button>\n",
              "\n",
              "<style>\n",
              "  .colab-df-quickchart {\n",
              "      --bg-color: #E8F0FE;\n",
              "      --fill-color: #1967D2;\n",
              "      --hover-bg-color: #E2EBFA;\n",
              "      --hover-fill-color: #174EA6;\n",
              "      --disabled-fill-color: #AAA;\n",
              "      --disabled-bg-color: #DDD;\n",
              "  }\n",
              "\n",
              "  [theme=dark] .colab-df-quickchart {\n",
              "      --bg-color: #3B4455;\n",
              "      --fill-color: #D2E3FC;\n",
              "      --hover-bg-color: #434B5C;\n",
              "      --hover-fill-color: #FFFFFF;\n",
              "      --disabled-bg-color: #3B4455;\n",
              "      --disabled-fill-color: #666;\n",
              "  }\n",
              "\n",
              "  .colab-df-quickchart {\n",
              "    background-color: var(--bg-color);\n",
              "    border: none;\n",
              "    border-radius: 50%;\n",
              "    cursor: pointer;\n",
              "    display: none;\n",
              "    fill: var(--fill-color);\n",
              "    height: 32px;\n",
              "    padding: 0;\n",
              "    width: 32px;\n",
              "  }\n",
              "\n",
              "  .colab-df-quickchart:hover {\n",
              "    background-color: var(--hover-bg-color);\n",
              "    box-shadow: 0 1px 2px rgba(60, 64, 67, 0.3), 0 1px 3px 1px rgba(60, 64, 67, 0.15);\n",
              "    fill: var(--button-hover-fill-color);\n",
              "  }\n",
              "\n",
              "  .colab-df-quickchart-complete:disabled,\n",
              "  .colab-df-quickchart-complete:disabled:hover {\n",
              "    background-color: var(--disabled-bg-color);\n",
              "    fill: var(--disabled-fill-color);\n",
              "    box-shadow: none;\n",
              "  }\n",
              "\n",
              "  .colab-df-spinner {\n",
              "    border: 2px solid var(--fill-color);\n",
              "    border-color: transparent;\n",
              "    border-bottom-color: var(--fill-color);\n",
              "    animation:\n",
              "      spin 1s steps(1) infinite;\n",
              "  }\n",
              "\n",
              "  @keyframes spin {\n",
              "    0% {\n",
              "      border-color: transparent;\n",
              "      border-bottom-color: var(--fill-color);\n",
              "      border-left-color: var(--fill-color);\n",
              "    }\n",
              "    20% {\n",
              "      border-color: transparent;\n",
              "      border-left-color: var(--fill-color);\n",
              "      border-top-color: var(--fill-color);\n",
              "    }\n",
              "    30% {\n",
              "      border-color: transparent;\n",
              "      border-left-color: var(--fill-color);\n",
              "      border-top-color: var(--fill-color);\n",
              "      border-right-color: var(--fill-color);\n",
              "    }\n",
              "    40% {\n",
              "      border-color: transparent;\n",
              "      border-right-color: var(--fill-color);\n",
              "      border-top-color: var(--fill-color);\n",
              "    }\n",
              "    60% {\n",
              "      border-color: transparent;\n",
              "      border-right-color: var(--fill-color);\n",
              "    }\n",
              "    80% {\n",
              "      border-color: transparent;\n",
              "      border-right-color: var(--fill-color);\n",
              "      border-bottom-color: var(--fill-color);\n",
              "    }\n",
              "    90% {\n",
              "      border-color: transparent;\n",
              "      border-bottom-color: var(--fill-color);\n",
              "    }\n",
              "  }\n",
              "</style>\n",
              "\n",
              "  <script>\n",
              "    async function quickchart(key) {\n",
              "      const quickchartButtonEl =\n",
              "        document.querySelector('#' + key + ' button');\n",
              "      quickchartButtonEl.disabled = true;  // To prevent multiple clicks.\n",
              "      quickchartButtonEl.classList.add('colab-df-spinner');\n",
              "      try {\n",
              "        const charts = await google.colab.kernel.invokeFunction(\n",
              "            'suggestCharts', [key], {});\n",
              "      } catch (error) {\n",
              "        console.error('Error during call to suggestCharts:', error);\n",
              "      }\n",
              "      quickchartButtonEl.classList.remove('colab-df-spinner');\n",
              "      quickchartButtonEl.classList.add('colab-df-quickchart-complete');\n",
              "    }\n",
              "    (() => {\n",
              "      let quickchartButtonEl =\n",
              "        document.querySelector('#df-dba4f6ce-7253-41d0-afae-2bb33132022a button');\n",
              "      quickchartButtonEl.style.display =\n",
              "        google.colab.kernel.accessAllowed ? 'block' : 'none';\n",
              "    })();\n",
              "  </script>\n",
              "</div>\n",
              "\n",
              "    </div>\n",
              "  </div>\n"
            ],
            "application/vnd.google.colaboratory.intrinsic+json": {
              "type": "dataframe",
              "variable_name": "df",
              "summary": "{\n  \"name\": \"df\",\n  \"rows\": 3000,\n  \"fields\": [\n    {\n      \"column\": \"ID\",\n      \"properties\": {\n        \"dtype\": \"number\",\n        \"std\": 866,\n        \"min\": 1,\n        \"max\": 3000,\n        \"num_unique_values\": 3000,\n        \"samples\": [\n          1802,\n          1191,\n          1818\n        ],\n        \"semantic_type\": \"\",\n        \"description\": \"\"\n      }\n    },\n    {\n      \"column\": \"\\u0989\\u09aa\\u09b8\\u09b0\\u09cd\\u0997\\u09c7\\u09b0 \\u09ac\\u09bf\\u09ac\\u09b0\\u09a3\",\n      \"properties\": {\n        \"dtype\": \"category\",\n        \"num_unique_values\": 160,\n        \"samples\": [\n          \"\\u09b9\\u09be\\u09b2\\u0995\\u09be \\u09b6\\u09b0\\u09c0\\u09b0 \\u0995\\u09cd\\u09b2\\u09be\\u09a8\\u09cd\\u09a4\\u0964\",\n          \"\\u0997\\u09a4 \\u0995\\u09af\\u09bc\\u09c7\\u0995\\u09a6\\u09bf\\u09a8 \\u09a7\\u09b0\\u09c7 \\u09aa\\u09c7\\u099f \\u09ab\\u09cb\\u09b2\\u09be\\u0964\",\n          \"\\u09aa\\u09cd\\u09b0\\u09a4\\u09bf\\u09a6\\u09bf\\u09a8 \\u09aa\\u09c7\\u099f\\u09c7 \\u09ac\\u09cd\\u09af\\u09a5\\u09be \\u09b9\\u099a\\u09cd\\u099b\\u09c7\\u0964\"\n        ],\n        \"semantic_type\": \"\",\n        \"description\": \"\"\n      }\n    },\n    {\n      \"column\": \"\\u0989\\u09a6\\u09cd\\u09a6\\u09c7\\u09b6\\u09cd\\u09af\",\n      \"properties\": {\n        \"dtype\": \"category\",\n        \"num_unique_values\": 30,\n        \"samples\": [\n          \"\\u0998\\u09c1\\u09ae\\u09c7\\u09b0 \\u09b8\\u09ae\\u09b8\\u09cd\\u09af\\u09be\",\n          \"\\u0995\\u09a3\\u09cd\\u09a0\\u09c7 \\u09ac\\u09cd\\u09af\\u09a5\\u09be\",\n          \"\\u09a6\\u09be\\u0981\\u09a4\\u09c7\\u09b0 \\u09b8\\u09ae\\u09b8\\u09cd\\u09af\\u09be\"\n        ],\n        \"semantic_type\": \"\",\n        \"description\": \"\"\n      }\n    }\n  ]\n}"
            }
          },
          "metadata": {},
          "execution_count": 24
        }
      ]
    },
    {
      "cell_type": "markdown",
      "source": [
        "#Data Structure Validity"
      ],
      "metadata": {
        "id": "RgpuEUJwo0gA"
      }
    },
    {
      "cell_type": "code",
      "source": [
        "# Check for missing data\n",
        "if df.isnull().values.any():\n",
        "    print(\"Missing data detected.\")\n",
        "\n",
        "# Check data types\n",
        "if not pd.api.types.is_integer_dtype(df[\"ID\"]):\n",
        "    print(\"ID column should be integers.\")\n",
        "\n",
        "# Check ID uniqueness and sequential order\n",
        "if df[\"ID\"].nunique() != len(df) or not (df[\"ID\"].diff().dropna() == 1).all():\n",
        "    print(\"ID column is not unique or not sequential.\")\n"
      ],
      "metadata": {
        "id": "s595upNJo0Mg"
      },
      "execution_count": null,
      "outputs": []
    },
    {
      "cell_type": "markdown",
      "source": [
        "#Semantic Validity"
      ],
      "metadata": {
        "id": "pzxHn6qqo7sI"
      }
    },
    {
      "cell_type": "code",
      "source": [
        "sample = df.sample(10)  # Randomly sample 10 rows for inspection\n",
        "print(sample)"
      ],
      "metadata": {
        "colab": {
          "base_uri": "https://localhost:8080/"
        },
        "id": "0kPhKnZBo-x_",
        "outputId": "9cd78b45-7d9b-4b21-e65e-941b940df728"
      },
      "execution_count": null,
      "outputs": [
        {
          "output_type": "stream",
          "name": "stdout",
          "text": [
            "        ID                         উপসর্গের বিবরণ                উদ্দেশ্য\n",
            "2358  2359           একের পর এক ঘাড় ব্যথা হচ্ছে।               মাথাব্যথা\n",
            "286    287  খুবই অস্বস্তিকর শ্বাসকষ্ট অনুভব করছি।              অ্যালার্জি\n",
            "2099  2100              সামান্য ঘাড় ব্যথা হচ্ছে।             পিঠের ব্যথা\n",
            "629    630                     হালকা শরীরে ব্যথা।                 চুলকানি\n",
            "2549  2550                    হালকা মাংসপেশী টান।             পিঠের ব্যথা\n",
            "2654  2655                  প্রতিদিন গাঁটে ব্যথা।  হাড় বা জয়েন্টের ব্যথা\n",
            "1053  1054           খুবই অস্বস্তিকর গাঁটে ব্যথা।            চোখের সমস্যা\n",
            "2729  2730                 আমার ঘাড় ব্যথা হচ্ছে।     পাচনতন্ত্রের সমস্যা\n",
            "878    879  গত কয়েকদিন ধরে শ্বাসকষ্ট অনুভব করছি।                 ইনফেকশন\n",
            "1843  1844                হালকা পেটে ব্যথা হচ্ছে।              অ্যালার্জি\n"
          ]
        }
      ]
    },
    {
      "cell_type": "markdown",
      "source": [
        "#Distribution Validity"
      ],
      "metadata": {
        "id": "pwjWCz2fpqmW"
      }
    },
    {
      "cell_type": "code",
      "source": [
        "# Check distribution of intents\n",
        "intent_counts = df[\"উদ্দেশ্য\"].value_counts()\n",
        "print(intent_counts)\n",
        "\n",
        "# Verify a wide variety of symptom descriptions\n",
        "unique_descriptions = df[\"উপসর্গের বিবরণ\"].nunique()\n",
        "total_descriptions = len(df)\n",
        "print(f\"Unique descriptions: {unique_descriptions} / Total descriptions: {total_descriptions}\")\n"
      ],
      "metadata": {
        "colab": {
          "base_uri": "https://localhost:8080/"
        },
        "id": "yVsLChdZpuIu",
        "outputId": "9d32cdd2-b082-47d8-c0f0-73954d5fa24f"
      },
      "execution_count": null,
      "outputs": [
        {
          "output_type": "stream",
          "name": "stdout",
          "text": [
            "উদ্দেশ্য\n",
            "মূত্রনালীর সমস্যা         117\n",
            "পাচনতন্ত্রের সমস্যা       115\n",
            "ডায়াবেটিসের লক্ষণ        113\n",
            "দাঁতের সমস্যা             111\n",
            "হজমের সমস্যা              109\n",
            "অবসাদ                     109\n",
            "বমি ভাব                   108\n",
            "ত্বকের সমস্যা             108\n",
            "ফ্লু-এর মতো উপসর্গ        108\n",
            "স্নায়বিক সমস্যা          107\n",
            "ইনফেকশন                   105\n",
            "মাথাব্যথা                 105\n",
            "ঘুমের সমস্যা              103\n",
            "চুলকানি                   100\n",
            "মাংসপেশীর সমস্যা           99\n",
            "শ্বাসকষ্ট সমস্যা           99\n",
            "পেটে ফোলাভাব               98\n",
            "হাড় বা জয়েন্টের ব্যথা     98\n",
            "কণ্ঠে ব্যথা                97\n",
            "চোখের সমস্যা               97\n",
            "সর্দি-কাশি                 97\n",
            "অ্যালার্জি                 94\n",
            "দীর্ঘস্থায়ী ক্লান্তি      93\n",
            "হাঁপানি                    93\n",
            "জ্বর                       92\n",
            "বুক ধড়ফড়                 90\n",
            "কোষ্ঠকাঠিন্য               89\n",
            "রক্তচাপ সমস্যা             83\n",
            "হৃদরোগের আশঙ্কা            82\n",
            "পিঠের ব্যথা                81\n",
            "Name: count, dtype: int64\n",
            "Unique descriptions: 160 / Total descriptions: 3000\n"
          ]
        }
      ]
    },
    {
      "cell_type": "markdown",
      "source": [
        "#Trail 02"
      ],
      "metadata": {
        "id": "mqdDrUI2reI7"
      }
    },
    {
      "cell_type": "code",
      "source": [
        "import csv\n",
        "import random\n",
        "\n",
        "# Define intents with corresponding symptoms for logical consistency\n",
        "intents_with_symptoms = {\n",
        "    \"ফ্লু-এর মতো উপসর্গ\": [\n",
        "        \"জ্বর হচ্ছে\", \"সর্দি লেগে আছে\", \"গলায় ব্যথা\", \"গা-হাত-পা ব্যথা\",\n",
        "        \"মাথা ঘোরাচ্ছে\", \"দুর্বল অনুভব করছি\"\n",
        "    ],\n",
        "    \"হৃদরোগের আশঙ্কা\": [\n",
        "        \"বুকে ব্যথা\", \"বুক ধড়ফড় করছে\", \"শ্বাস নিতে কষ্ট হচ্ছে\", \"হাত-পা ঠাণ্ডা লাগছে\",\n",
        "        \"হাত-পায়ে অবশ ভাব\", \"বুকে চাপ অনুভব করছি\"\n",
        "    ],\n",
        "    \"ত্বকের সমস্যা\": [\n",
        "        \"ত্বকে র‍্যাশ\", \"চুলকানি হচ্ছে\", \"ত্বকে জ্বালা করছে\", \"ত্বক লালচে হয়ে যাচ্ছে\",\n",
        "        \"চামড়া খসখসে হচ্ছে\", \"ত্বক শুষ্ক হয়ে যাচ্ছে\"\n",
        "    ],\n",
        "    \"দীর্ঘস্থায়ী ক্লান্তি\": [\n",
        "        \"শরীর ক্লান্ত\", \"ঘুম পাচ্ছে\", \"কাজে মন বসছে না\", \"শক্তি পাচ্ছি না\",\n",
        "        \"প্রতিদিন ক্লান্ত অনুভব করছি\", \"শরীর দুর্বল\"\n",
        "    ],\n",
        "    \"পাচনতন্ত্রের সমস্যা\": [\n",
        "        \"পেটে ব্যথা হচ্ছে\", \"পেটে গ্যাস জমেছে\", \"বমি ভাব হচ্ছে\", \"অস্বস্তি লাগছে\",\n",
        "        \"খাবার হজম করতে পারছি না\", \"পেটে অস্বস্তি\"\n",
        "    ],\n",
        "    \"চোখের সমস্যা\": [\n",
        "        \"চোখে ব্যথা\", \"চোখ লাল হয়ে যাচ্ছে\", \"চোখ শুকিয়ে যাচ্ছে\", \"চোখে ঝাপসা দেখা\",\n",
        "        \"চোখ চুলকাচ্ছে\", \"চোখে পুঁজ হচ্ছে\"\n",
        "    ],\n",
        "    \"শ্বাসকষ্ট সমস্যা\": [\n",
        "        \"শ্বাস নিতে কষ্ট হচ্ছে\", \"শ্বাসের সাথে ব্যথা হচ্ছে\", \"বুক ধড়ফড় করছে\",\n",
        "        \"শ্বাস আটকে যাচ্ছে\", \"বুক ভারী লাগছে\", \"শ্বাস নিতে খুব কষ্ট হচ্ছে\"\n",
        "    ],\n",
        "    \"মাথাব্যথা\": [\n",
        "        \"মাথা ব্যথা হচ্ছে\", \"মাথা ঘুরছে\", \"মাথা ভারী লাগছে\", \"কপালে ব্যথা\",\n",
        "        \"মাথার পিছনে চাপ অনুভব করছি\", \"প্রতিদিন মাথা ব্যথা হচ্ছে\"\n",
        "    ],\n",
        "    \"দাঁতের সমস্যা\": [\n",
        "        \"দাঁতে ব্যথা\", \"দাঁতে পোকা ধরেছে\", \"দাঁতের মাড়ি ফুলে যাচ্ছে\",\n",
        "        \"খেতে গিয়ে দাঁতে ব্যথা\", \"দাঁতের মাড়ি থেকে রক্ত পড়ছে\"\n",
        "    ],\n",
        "    \"হাড় বা জয়েন্টের ব্যথা\": [\n",
        "        \"হাঁটুতে ব্যথা\", \"কোমরে ব্যথা\", \"গাঁটে ব্যথা\", \"কাঁধে টান অনুভব করছি\",\n",
        "        \"হাঁটা-চলায় ব্যথা\", \"হাঁটুতে ঝিঁঝিঁ ধরছে\"\n",
        "    ],\n",
        "    \"মাংসপেশীর সমস্যা\": [\n",
        "        \"মাংসপেশীতে টান পড়েছে\", \"মাংসপেশী ব্যথা করছে\", \"মাংসপেশীতে শক্তি পাচ্ছি না\",\n",
        "        \"মাংসপেশী কাঁপছে\", \"হাত বা পায়ের মাংসপেশী দুর্বল লাগছে\"\n",
        "    ],\n",
        "    \"স্নায়বিক সমস্যা\": [\n",
        "        \"হাত-পায়ে অবশ ভাব\", \"মাথা ঘুরছে\", \"হাত কাঁপছে\", \"চোখের পলক থেমে যাচ্ছে\",\n",
        "        \"দুর্বল লাগছে\", \"হাত বা পায়ে ঝিনঝিন ভাব\"\n",
        "    ],\n",
        "    \"ঘুমের সমস্যা\": [\n",
        "        \"ঘুম আসছে না\", \"রাতভর ঘুম ভেঙে যাচ্ছে\", \"ঘুম আসলেও গভীর ঘুম হচ্ছে না\",\n",
        "        \"ঘুমের মধ্যে ঘন ঘন উঠে যাচ্ছি\", \"শান্তি পাচ্ছি না\", \"অনিদ্রায় ভুগছি\"\n",
        "    ],\n",
        "    \"মূত্রনালীর সমস্যা\": [\n",
        "        \"মূত্রে জ্বালা করছে\", \"বারবার প্রস্রাব পাচ্ছে\", \"প্রস্রাব করতে কষ্ট হচ্ছে\",\n",
        "        \"প্রস্রাবে পুঁজ আছে\", \"প্রস্রাবে দুর্গন্ধ\", \"প্রস্রাবের রং পরিবর্তিত\"\n",
        "    ],\n",
        "    \"সর্দি-কাশি\": [\n",
        "        \"নাক দিয়ে পানি পড়ছে\", \"গলা শুকিয়ে যাচ্ছে\", \"কাশির কারণে ঘুম ভেঙে যাচ্ছে\",\n",
        "        \"গলা ব্যথা\", \"প্রচন্ড সর্দি লেগেছে\", \"বারবার হাঁচি আসছে\"\n",
        "    ],\n",
        "    \"বমি ভাব\": [\n",
        "        \"বমি আসছে\", \"পেট খারাপ\", \"বমি বমি ভাব\", \"বমি হচ্ছে\", \"পেটে ব্যথা\", \"মাথা ঘুরাচ্ছে\"\n",
        "    ],\n",
        "    \"অ্যালার্জি\": [\n",
        "        \"চোখ লাল হয়ে গেছে\", \"ত্বকে র‍্যাশ\", \"নাক চুলকাচ্ছে\", \"গায়ে চুলকানি\",\n",
        "        \"নাকে ঘন ঘন হাঁচি আসছে\", \"শরীরে দাগ পড়ছে\"\n",
        "    ],\n",
        "    \"বুক ধড়ফড়\": [\n",
        "        \"বুকের মধ্যে ধড়ফড় করছে\", \"বুক ভারী লাগছে\", \"শ্বাস নিতে কষ্ট হচ্ছে\",\n",
        "        \"হৃৎপিণ্ডের গতি বেড়ে যাচ্ছে\", \"বুক চাপে ধরছে\", \"বুকের ভিতর ধড়ফড় ভাব\"\n",
        "    ],\n",
        "    \"জ্বর\": [\n",
        "        \"জ্বর জ্বর লাগছে\", \"শরীরের তাপমাত্রা বেড়ে গেছে\", \"ঠাণ্ডা লাগছে\",\n",
        "        \"গা ব্যথা করছে\", \"মাথা গরম\", \"প্রতিদিন জ্বর আসছে\"\n",
        "    ],\n",
        "    \"কণ্ঠে ব্যথা\": [\n",
        "        \"গিলতে কষ্ট হচ্ছে\", \"কণ্ঠ শুকিয়ে যাচ্ছে\", \"গলায় ব্যথা\", \"কণ্ঠে শুষ্কতা\",\n",
        "        \"কণ্ঠে অস্বস্তি\", \"কণ্ঠে হালকা ব্যথা\"\n",
        "    ],\n",
        "    \"হজমের সমস্যা\": [\n",
        "        \"খাবার হজম হচ্ছে না\", \"পেটে গ্যাস\", \"খাবার খেলেই অস্বস্তি\",\n",
        "        \"পেটে ব্যথা\", \"পেট ফোলা\", \"অতিরিক্ত বমি ভাব\"\n",
        "    ],\n",
        "    \"পিঠের ব্যথা\": [\n",
        "        \"পিঠে ব্যথা\", \"পিঠ শক্ত লাগছে\", \"পিঠের নিচের অংশে ব্যথা\",\n",
        "        \"দীর্ঘক্ষণ বসলে পিঠে ব্যথা\", \"পিঠে চাপ অনুভব করছি\", \"পিঠে টান পড়ছে\"\n",
        "    ],\n",
        "    \"পেটে ফোলাভাব\": [\n",
        "        \"পেট ফোলা লাগছে\", \"খাবার খেলেই পেট ফুলে যাচ্ছে\", \"পেটে গ্যাস জমেছে\",\n",
        "        \"খাদ্যের পরিপাক হচ্ছে না\", \"পেটে ভারী অনুভব করছি\", \"পেটের ভিতর অস্বস্তি\"\n",
        "    ],\n",
        "    \"কোষ্ঠকাঠিন্য\": [\n",
        "        \"মলত্যাগে সমস্যা\", \"পেট শক্ত লাগছে\", \"দীর্ঘক্ষণ মলত্যাগ হচ্ছে না\",\n",
        "        \"প্রতিদিন কোষ্ঠকাঠিন্য\", \"পেটে গ্যাস জমেছে\", \"পেটের ভিতর ব্যথা\"\n",
        "    ],\n",
        "    \"ইনফেকশন\": [\n",
        "        \"জ্বর আসছে\", \"ক্ষত থেকে পুঁজ বের হচ্ছে\", \"দেহের ক্ষত জ্বালা করছে\",\n",
        "        \"ইনফেকশনের জায়গা লাল হয়ে গেছে\", \"পাচনতন্ত্রে সমস্যা\", \"প্রস্রাবে সংক্রমণ\"\n",
        "    ],\n",
        "    \"চুলকানি\": [\n",
        "        \"গায়ে চুলকানি\", \"ত্বকে র‍্যাশ\", \"ত্বক জ্বালা করছে\", \"ঘাড় চুলকাচ্ছে\",\n",
        "        \"পিঠে চুলকাচ্ছে\", \"হাতে চুলকানি\"\n",
        "    ],\n",
        "    \"হাঁপানি\": [\n",
        "        \"শ্বাস নিতে কষ্ট হচ্ছে\", \"বুকে চাপ\", \"শ্বাস বন্ধ হয়ে আসছে\",\n",
        "        \"বুকে শ্বাস আটকে যাচ্ছে\", \"শ্বাসের সাথে কষ্ট\", \"ধুলো-ধোঁয়ায় শ্বাসকষ্ট\"\n",
        "    ],\n",
        "    \"রক্তচাপ সমস্যা\": [\n",
        "        \"হাত-পায়ে ঝিম ধরছে\", \"হৃদপিণ্ডের গতি বেড়ে যাচ্ছে\", \"মাথা ঘুরছে\",\n",
        "        \"শরীর দুর্বল লাগছে\", \"চাপের মধ্যে অস্বস্তি\", \"দূর্বল লাগছে\"\n",
        "    ],\n",
        "    \"অবসাদ\": [\n",
        "        \"কাজে মন বসছে না\", \"শক্তি পাচ্ছি না\", \"সব সময় ক্লান্ত\",\n",
        "        \"মন মেজাজ ভালো লাগছে না\", \"ঘুমে সমস্যা\", \"দুঃখবোধ অনুভব করছি\"\n",
        "    ],\n",
        "    \"ডায়াবেটিস\": [\n",
        "        \"প্রচন্ড পিপাসা লাগছে\", \"মূত্রের পরিমাণ বেড়ে গেছে\", \"খিদে বেড়ে গেছে\",\n",
        "        \"হঠাৎ ওজন কমছে\", \"দুর্বল লাগছে\", \"চোখে ঝাপসা দেখা\"\n",
        "    ]\n",
        "}\n",
        "\n",
        "\n",
        "# Generate symptom description based on intent\n",
        "def generate_description(intent):\n",
        "    symptoms = intents_with_symptoms.get(intent, [\"উপসর্গ অনুপস্থিত\"])  # Fallback if intent not found\n",
        "    return f\"{random.choice(symptoms)}।\"\n",
        "\n",
        "# Generate dataset\n",
        "dataset = []\n",
        "for i in range(3000):\n",
        "    intent = random.choice(list(intents_with_symptoms.keys()))\n",
        "    description = generate_description(intent)\n",
        "    dataset.append([i + 1, description, intent])\n",
        "\n",
        "# Save to CSV\n",
        "with open(\"medical_intent_classification_bangla02.csv\", \"w\", newline=\"\", encoding=\"utf-8\") as file:\n",
        "    writer = csv.writer(file)\n",
        "    writer.writerow([\"ID\", \"উপসর্গের বিবরণ\", \"উদ্দেশ্য\"])\n",
        "    writer.writerows(dataset)\n",
        "\n",
        "print(\"CSV file generated: medical_intent_classification_bangla02.csv\")\n"
      ],
      "metadata": {
        "colab": {
          "base_uri": "https://localhost:8080/"
        },
        "id": "pO8fn5aFrd1k",
        "outputId": "7ac875b6-2fce-40c3-c606-badc533b108e"
      },
      "execution_count": null,
      "outputs": [
        {
          "output_type": "stream",
          "name": "stdout",
          "text": [
            "CSV file generated: medical_intent_classification_bangla02.csv\n"
          ]
        }
      ]
    },
    {
      "cell_type": "markdown",
      "source": [
        "#Check"
      ],
      "metadata": {
        "id": "ROGpGPQgr3VD"
      }
    },
    {
      "cell_type": "code",
      "source": [
        "import pandas as pd\n",
        "\n",
        "df = pd.read_csv(\"/content/medical_intent_classification_bangla02.csv\", encoding=\"utf-8\")"
      ],
      "metadata": {
        "id": "dq4gHXQur4iK"
      },
      "execution_count": null,
      "outputs": []
    },
    {
      "cell_type": "code",
      "source": [
        "df.head()"
      ],
      "metadata": {
        "colab": {
          "base_uri": "https://localhost:8080/",
          "height": 206
        },
        "id": "BqiSh8ZQr8PB",
        "outputId": "e05eb66c-91ad-4bb1-e9ea-90b5054ac9f8"
      },
      "execution_count": null,
      "outputs": [
        {
          "output_type": "execute_result",
          "data": {
            "text/plain": [
              "   ID               উপসর্গের বিবরণ            উদ্দেশ্য\n",
              "0   1             গা-হাত-পা ব্যথা।  ফ্লু-এর মতো উপসর্গ\n",
              "1   2               কণ্ঠে শুষ্কতা।         কণ্ঠে ব্যথা\n",
              "2   3               গায়ে চুলকানি।             চুলকানি\n",
              "3   4                    পেট ফোলা।        হজমের সমস্যা\n",
              "4   5  মাংসপেশীতে শক্তি পাচ্ছি না।    মাংসপেশীর সমস্যা"
            ],
            "text/html": [
              "\n",
              "  <div id=\"df-2ec3ee49-bf8c-4284-b0a0-fc095e86c680\" class=\"colab-df-container\">\n",
              "    <div>\n",
              "<style scoped>\n",
              "    .dataframe tbody tr th:only-of-type {\n",
              "        vertical-align: middle;\n",
              "    }\n",
              "\n",
              "    .dataframe tbody tr th {\n",
              "        vertical-align: top;\n",
              "    }\n",
              "\n",
              "    .dataframe thead th {\n",
              "        text-align: right;\n",
              "    }\n",
              "</style>\n",
              "<table border=\"1\" class=\"dataframe\">\n",
              "  <thead>\n",
              "    <tr style=\"text-align: right;\">\n",
              "      <th></th>\n",
              "      <th>ID</th>\n",
              "      <th>উপসর্গের বিবরণ</th>\n",
              "      <th>উদ্দেশ্য</th>\n",
              "    </tr>\n",
              "  </thead>\n",
              "  <tbody>\n",
              "    <tr>\n",
              "      <th>0</th>\n",
              "      <td>1</td>\n",
              "      <td>গা-হাত-পা ব্যথা।</td>\n",
              "      <td>ফ্লু-এর মতো উপসর্গ</td>\n",
              "    </tr>\n",
              "    <tr>\n",
              "      <th>1</th>\n",
              "      <td>2</td>\n",
              "      <td>কণ্ঠে শুষ্কতা।</td>\n",
              "      <td>কণ্ঠে ব্যথা</td>\n",
              "    </tr>\n",
              "    <tr>\n",
              "      <th>2</th>\n",
              "      <td>3</td>\n",
              "      <td>গায়ে চুলকানি।</td>\n",
              "      <td>চুলকানি</td>\n",
              "    </tr>\n",
              "    <tr>\n",
              "      <th>3</th>\n",
              "      <td>4</td>\n",
              "      <td>পেট ফোলা।</td>\n",
              "      <td>হজমের সমস্যা</td>\n",
              "    </tr>\n",
              "    <tr>\n",
              "      <th>4</th>\n",
              "      <td>5</td>\n",
              "      <td>মাংসপেশীতে শক্তি পাচ্ছি না।</td>\n",
              "      <td>মাংসপেশীর সমস্যা</td>\n",
              "    </tr>\n",
              "  </tbody>\n",
              "</table>\n",
              "</div>\n",
              "    <div class=\"colab-df-buttons\">\n",
              "\n",
              "  <div class=\"colab-df-container\">\n",
              "    <button class=\"colab-df-convert\" onclick=\"convertToInteractive('df-2ec3ee49-bf8c-4284-b0a0-fc095e86c680')\"\n",
              "            title=\"Convert this dataframe to an interactive table.\"\n",
              "            style=\"display:none;\">\n",
              "\n",
              "  <svg xmlns=\"http://www.w3.org/2000/svg\" height=\"24px\" viewBox=\"0 -960 960 960\">\n",
              "    <path d=\"M120-120v-720h720v720H120Zm60-500h600v-160H180v160Zm220 220h160v-160H400v160Zm0 220h160v-160H400v160ZM180-400h160v-160H180v160Zm440 0h160v-160H620v160ZM180-180h160v-160H180v160Zm440 0h160v-160H620v160Z\"/>\n",
              "  </svg>\n",
              "    </button>\n",
              "\n",
              "  <style>\n",
              "    .colab-df-container {\n",
              "      display:flex;\n",
              "      gap: 12px;\n",
              "    }\n",
              "\n",
              "    .colab-df-convert {\n",
              "      background-color: #E8F0FE;\n",
              "      border: none;\n",
              "      border-radius: 50%;\n",
              "      cursor: pointer;\n",
              "      display: none;\n",
              "      fill: #1967D2;\n",
              "      height: 32px;\n",
              "      padding: 0 0 0 0;\n",
              "      width: 32px;\n",
              "    }\n",
              "\n",
              "    .colab-df-convert:hover {\n",
              "      background-color: #E2EBFA;\n",
              "      box-shadow: 0px 1px 2px rgba(60, 64, 67, 0.3), 0px 1px 3px 1px rgba(60, 64, 67, 0.15);\n",
              "      fill: #174EA6;\n",
              "    }\n",
              "\n",
              "    .colab-df-buttons div {\n",
              "      margin-bottom: 4px;\n",
              "    }\n",
              "\n",
              "    [theme=dark] .colab-df-convert {\n",
              "      background-color: #3B4455;\n",
              "      fill: #D2E3FC;\n",
              "    }\n",
              "\n",
              "    [theme=dark] .colab-df-convert:hover {\n",
              "      background-color: #434B5C;\n",
              "      box-shadow: 0px 1px 3px 1px rgba(0, 0, 0, 0.15);\n",
              "      filter: drop-shadow(0px 1px 2px rgba(0, 0, 0, 0.3));\n",
              "      fill: #FFFFFF;\n",
              "    }\n",
              "  </style>\n",
              "\n",
              "    <script>\n",
              "      const buttonEl =\n",
              "        document.querySelector('#df-2ec3ee49-bf8c-4284-b0a0-fc095e86c680 button.colab-df-convert');\n",
              "      buttonEl.style.display =\n",
              "        google.colab.kernel.accessAllowed ? 'block' : 'none';\n",
              "\n",
              "      async function convertToInteractive(key) {\n",
              "        const element = document.querySelector('#df-2ec3ee49-bf8c-4284-b0a0-fc095e86c680');\n",
              "        const dataTable =\n",
              "          await google.colab.kernel.invokeFunction('convertToInteractive',\n",
              "                                                    [key], {});\n",
              "        if (!dataTable) return;\n",
              "\n",
              "        const docLinkHtml = 'Like what you see? Visit the ' +\n",
              "          '<a target=\"_blank\" href=https://colab.research.google.com/notebooks/data_table.ipynb>data table notebook</a>'\n",
              "          + ' to learn more about interactive tables.';\n",
              "        element.innerHTML = '';\n",
              "        dataTable['output_type'] = 'display_data';\n",
              "        await google.colab.output.renderOutput(dataTable, element);\n",
              "        const docLink = document.createElement('div');\n",
              "        docLink.innerHTML = docLinkHtml;\n",
              "        element.appendChild(docLink);\n",
              "      }\n",
              "    </script>\n",
              "  </div>\n",
              "\n",
              "\n",
              "<div id=\"df-ae5ff487-b7c6-410f-b185-c81f1c6356c5\">\n",
              "  <button class=\"colab-df-quickchart\" onclick=\"quickchart('df-ae5ff487-b7c6-410f-b185-c81f1c6356c5')\"\n",
              "            title=\"Suggest charts\"\n",
              "            style=\"display:none;\">\n",
              "\n",
              "<svg xmlns=\"http://www.w3.org/2000/svg\" height=\"24px\"viewBox=\"0 0 24 24\"\n",
              "     width=\"24px\">\n",
              "    <g>\n",
              "        <path d=\"M19 3H5c-1.1 0-2 .9-2 2v14c0 1.1.9 2 2 2h14c1.1 0 2-.9 2-2V5c0-1.1-.9-2-2-2zM9 17H7v-7h2v7zm4 0h-2V7h2v10zm4 0h-2v-4h2v4z\"/>\n",
              "    </g>\n",
              "</svg>\n",
              "  </button>\n",
              "\n",
              "<style>\n",
              "  .colab-df-quickchart {\n",
              "      --bg-color: #E8F0FE;\n",
              "      --fill-color: #1967D2;\n",
              "      --hover-bg-color: #E2EBFA;\n",
              "      --hover-fill-color: #174EA6;\n",
              "      --disabled-fill-color: #AAA;\n",
              "      --disabled-bg-color: #DDD;\n",
              "  }\n",
              "\n",
              "  [theme=dark] .colab-df-quickchart {\n",
              "      --bg-color: #3B4455;\n",
              "      --fill-color: #D2E3FC;\n",
              "      --hover-bg-color: #434B5C;\n",
              "      --hover-fill-color: #FFFFFF;\n",
              "      --disabled-bg-color: #3B4455;\n",
              "      --disabled-fill-color: #666;\n",
              "  }\n",
              "\n",
              "  .colab-df-quickchart {\n",
              "    background-color: var(--bg-color);\n",
              "    border: none;\n",
              "    border-radius: 50%;\n",
              "    cursor: pointer;\n",
              "    display: none;\n",
              "    fill: var(--fill-color);\n",
              "    height: 32px;\n",
              "    padding: 0;\n",
              "    width: 32px;\n",
              "  }\n",
              "\n",
              "  .colab-df-quickchart:hover {\n",
              "    background-color: var(--hover-bg-color);\n",
              "    box-shadow: 0 1px 2px rgba(60, 64, 67, 0.3), 0 1px 3px 1px rgba(60, 64, 67, 0.15);\n",
              "    fill: var(--button-hover-fill-color);\n",
              "  }\n",
              "\n",
              "  .colab-df-quickchart-complete:disabled,\n",
              "  .colab-df-quickchart-complete:disabled:hover {\n",
              "    background-color: var(--disabled-bg-color);\n",
              "    fill: var(--disabled-fill-color);\n",
              "    box-shadow: none;\n",
              "  }\n",
              "\n",
              "  .colab-df-spinner {\n",
              "    border: 2px solid var(--fill-color);\n",
              "    border-color: transparent;\n",
              "    border-bottom-color: var(--fill-color);\n",
              "    animation:\n",
              "      spin 1s steps(1) infinite;\n",
              "  }\n",
              "\n",
              "  @keyframes spin {\n",
              "    0% {\n",
              "      border-color: transparent;\n",
              "      border-bottom-color: var(--fill-color);\n",
              "      border-left-color: var(--fill-color);\n",
              "    }\n",
              "    20% {\n",
              "      border-color: transparent;\n",
              "      border-left-color: var(--fill-color);\n",
              "      border-top-color: var(--fill-color);\n",
              "    }\n",
              "    30% {\n",
              "      border-color: transparent;\n",
              "      border-left-color: var(--fill-color);\n",
              "      border-top-color: var(--fill-color);\n",
              "      border-right-color: var(--fill-color);\n",
              "    }\n",
              "    40% {\n",
              "      border-color: transparent;\n",
              "      border-right-color: var(--fill-color);\n",
              "      border-top-color: var(--fill-color);\n",
              "    }\n",
              "    60% {\n",
              "      border-color: transparent;\n",
              "      border-right-color: var(--fill-color);\n",
              "    }\n",
              "    80% {\n",
              "      border-color: transparent;\n",
              "      border-right-color: var(--fill-color);\n",
              "      border-bottom-color: var(--fill-color);\n",
              "    }\n",
              "    90% {\n",
              "      border-color: transparent;\n",
              "      border-bottom-color: var(--fill-color);\n",
              "    }\n",
              "  }\n",
              "</style>\n",
              "\n",
              "  <script>\n",
              "    async function quickchart(key) {\n",
              "      const quickchartButtonEl =\n",
              "        document.querySelector('#' + key + ' button');\n",
              "      quickchartButtonEl.disabled = true;  // To prevent multiple clicks.\n",
              "      quickchartButtonEl.classList.add('colab-df-spinner');\n",
              "      try {\n",
              "        const charts = await google.colab.kernel.invokeFunction(\n",
              "            'suggestCharts', [key], {});\n",
              "      } catch (error) {\n",
              "        console.error('Error during call to suggestCharts:', error);\n",
              "      }\n",
              "      quickchartButtonEl.classList.remove('colab-df-spinner');\n",
              "      quickchartButtonEl.classList.add('colab-df-quickchart-complete');\n",
              "    }\n",
              "    (() => {\n",
              "      let quickchartButtonEl =\n",
              "        document.querySelector('#df-ae5ff487-b7c6-410f-b185-c81f1c6356c5 button');\n",
              "      quickchartButtonEl.style.display =\n",
              "        google.colab.kernel.accessAllowed ? 'block' : 'none';\n",
              "    })();\n",
              "  </script>\n",
              "</div>\n",
              "\n",
              "    </div>\n",
              "  </div>\n"
            ],
            "application/vnd.google.colaboratory.intrinsic+json": {
              "type": "dataframe",
              "variable_name": "df",
              "summary": "{\n  \"name\": \"df\",\n  \"rows\": 3000,\n  \"fields\": [\n    {\n      \"column\": \"ID\",\n      \"properties\": {\n        \"dtype\": \"number\",\n        \"std\": 866,\n        \"min\": 1,\n        \"max\": 3000,\n        \"num_unique_values\": 3000,\n        \"samples\": [\n          1802,\n          1191,\n          1818\n        ],\n        \"semantic_type\": \"\",\n        \"description\": \"\"\n      }\n    },\n    {\n      \"column\": \"\\u0989\\u09aa\\u09b8\\u09b0\\u09cd\\u0997\\u09c7\\u09b0 \\u09ac\\u09bf\\u09ac\\u09b0\\u09a3\",\n      \"properties\": {\n        \"dtype\": \"category\",\n        \"num_unique_values\": 159,\n        \"samples\": [\n          \"\\u0995\\u09be\\u099c\\u09c7 \\u09ae\\u09a8 \\u09ac\\u09b8\\u099b\\u09c7 \\u09a8\\u09be\\u0964\",\n          \"\\u0998\\u09c1\\u09ae \\u09aa\\u09be\\u099a\\u09cd\\u099b\\u09c7\\u0964\",\n          \"\\u09aa\\u09c7\\u099f\\u09c7 \\u0985\\u09b8\\u09cd\\u09ac\\u09b8\\u09cd\\u09a4\\u09bf\\u0964\"\n        ],\n        \"semantic_type\": \"\",\n        \"description\": \"\"\n      }\n    },\n    {\n      \"column\": \"\\u0989\\u09a6\\u09cd\\u09a6\\u09c7\\u09b6\\u09cd\\u09af\",\n      \"properties\": {\n        \"dtype\": \"category\",\n        \"num_unique_values\": 30,\n        \"samples\": [\n          \"\\u09b6\\u09cd\\u09ac\\u09be\\u09b8\\u0995\\u09b7\\u09cd\\u099f \\u09b8\\u09ae\\u09b8\\u09cd\\u09af\\u09be\",\n          \"\\u09ae\\u09c2\\u09a4\\u09cd\\u09b0\\u09a8\\u09be\\u09b2\\u09c0\\u09b0 \\u09b8\\u09ae\\u09b8\\u09cd\\u09af\\u09be\",\n          \"\\u0985\\u09ac\\u09b8\\u09be\\u09a6\"\n        ],\n        \"semantic_type\": \"\",\n        \"description\": \"\"\n      }\n    }\n  ]\n}"
            }
          },
          "metadata": {},
          "execution_count": 32
        }
      ]
    },
    {
      "cell_type": "markdown",
      "source": [
        "#Data Structure Validity"
      ],
      "metadata": {
        "id": "8e4riQ1wsd74"
      }
    },
    {
      "cell_type": "code",
      "source": [
        "# Check for missing data\n",
        "if df.isnull().values.any():\n",
        "    print(\"Missing data detected.\")\n",
        "\n",
        "# Check data types\n",
        "if not pd.api.types.is_integer_dtype(df[\"ID\"]):\n",
        "    print(\"ID column should be integers.\")\n",
        "\n",
        "# Check ID uniqueness and sequential order\n",
        "if df[\"ID\"].nunique() != len(df) or not (df[\"ID\"].diff().dropna() == 1).all():\n",
        "    print(\"ID column is not unique or not sequential.\")\n"
      ],
      "metadata": {
        "id": "NvNmxP6HseMo"
      },
      "execution_count": null,
      "outputs": []
    },
    {
      "cell_type": "markdown",
      "source": [
        "#Semantic Validity"
      ],
      "metadata": {
        "id": "-sDkEIYXsh0g"
      }
    },
    {
      "cell_type": "code",
      "source": [
        "sample = df.sample(10)  # Randomly sample 10 rows for inspection\n",
        "print(sample)"
      ],
      "metadata": {
        "colab": {
          "base_uri": "https://localhost:8080/"
        },
        "id": "NACXJLUKskRo",
        "outputId": "1d07f4b6-aee8-441a-fe9d-9c0f23575c31"
      },
      "execution_count": null,
      "outputs": [
        {
          "output_type": "stream",
          "name": "stdout",
          "text": [
            "        ID                উপসর্গের বিবরণ               উদ্দেশ্য\n",
            "2021  2022              শক্তি পাচ্ছি না।                  অবসাদ\n",
            "987    988             পেটে গ্যাস জমেছে।           পেটে ফোলাভাব\n",
            "1298  1299               ঘাড় চুলকাচ্ছে।                চুলকানি\n",
            "2196  2197              শক্তি পাচ্ছি না।  দীর্ঘস্থায়ী ক্লান্তি\n",
            "2594  2595                  বমি বমি ভাব।                বমি ভাব\n",
            "625    626   দীর্ঘক্ষণ মলত্যাগ হচ্ছে না।           কোষ্ঠকাঠিন্য\n",
            "2522  2523         শ্বাস বন্ধ হয়ে আসছে।                হাঁপানি\n",
            "2036  2037                   হাত কাঁপছে।       স্নায়বিক সমস্যা\n",
            "2598  2599  ঘুম আসলেও গভীর ঘুম হচ্ছে না।           ঘুমের সমস্যা\n",
            "1427  1428           প্রস্রাবে দুর্গন্ধ।      মূত্রনালীর সমস্যা\n"
          ]
        }
      ]
    },
    {
      "cell_type": "markdown",
      "source": [
        "#Distribution Validity"
      ],
      "metadata": {
        "id": "1MdCPXtpsymg"
      }
    },
    {
      "cell_type": "code",
      "source": [
        "# Check distribution of intents\n",
        "intent_counts = df[\"উদ্দেশ্য\"].value_counts()\n",
        "print(intent_counts)\n",
        "\n",
        "# Verify a wide variety of symptom descriptions\n",
        "unique_descriptions = df[\"উপসর্গের বিবরণ\"].nunique()\n",
        "total_descriptions = len(df)\n",
        "print(f\"Unique descriptions: {unique_descriptions} / Total descriptions: {total_descriptions}\")\n"
      ],
      "metadata": {
        "colab": {
          "base_uri": "https://localhost:8080/"
        },
        "id": "f8_QO3UosyT4",
        "outputId": "c5744372-268d-4a4b-a025-79ae293244a2"
      },
      "execution_count": null,
      "outputs": [
        {
          "output_type": "stream",
          "name": "stdout",
          "text": [
            "উদ্দেশ্য\n",
            "সর্দি-কাশি                123\n",
            "অবসাদ                     118\n",
            "বমি ভাব                   116\n",
            "পাচনতন্ত্রের সমস্যা       115\n",
            "বুক ধড়ফড়                112\n",
            "দীর্ঘস্থায়ী ক্লান্তি     111\n",
            "হৃদরোগের আশঙ্কা           110\n",
            "হাড় বা জয়েন্টের ব্যথা    109\n",
            "মাংসপেশীর সমস্যা          104\n",
            "মাথাব্যথা                 104\n",
            "চুলকানি                   103\n",
            "অ্যালার্জি                103\n",
            "পিঠের ব্যথা               103\n",
            "হাঁপানি                   101\n",
            "দাঁতের সমস্যা             101\n",
            "ইনফেকশন                   101\n",
            "কোষ্ঠকাঠিন্য              100\n",
            "রক্তচাপ সমস্যা             99\n",
            "ডায়াবেটিস                 99\n",
            "ফ্লু-এর মতো উপসর্গ         95\n",
            "ত্বকের সমস্যা              94\n",
            "জ্বর                       94\n",
            "চোখের সমস্যা               94\n",
            "স্নায়বিক সমস্যা           89\n",
            "শ্বাসকষ্ট সমস্যা           89\n",
            "ঘুমের সমস্যা               85\n",
            "পেটে ফোলাভাব               84\n",
            "হজমের সমস্যা               83\n",
            "মূত্রনালীর সমস্যা          82\n",
            "কণ্ঠে ব্যথা                79\n",
            "Name: count, dtype: int64\n",
            "Unique descriptions: 159 / Total descriptions: 3000\n"
          ]
        }
      ]
    },
    {
      "cell_type": "markdown",
      "source": [
        "#Load Data"
      ],
      "metadata": {
        "id": "lBWUNg3dtPw3"
      }
    },
    {
      "cell_type": "code",
      "source": [
        "import pandas as pd\n",
        "import numpy as np"
      ],
      "metadata": {
        "id": "L8bKl4NlVgwz"
      },
      "execution_count": null,
      "outputs": []
    },
    {
      "cell_type": "code",
      "source": [
        "!gdown --id 1_jLiH0i4j6QqQngukesUJf2UKlm9lDiy"
      ],
      "metadata": {
        "colab": {
          "base_uri": "https://localhost:8080/"
        },
        "id": "JqsGmeZbtRO-",
        "outputId": "87d5876f-15a1-4538-b5b8-fd587cf6448e"
      },
      "execution_count": null,
      "outputs": [
        {
          "output_type": "stream",
          "name": "stdout",
          "text": [
            "/usr/local/lib/python3.10/dist-packages/gdown/__main__.py:140: FutureWarning: Option `--id` was deprecated in version 4.3.1 and will be removed in 5.0. You don't need to pass it anymore to use a file ID.\n",
            "  warnings.warn(\n",
            "Downloading...\n",
            "From: https://drive.google.com/uc?id=1_jLiH0i4j6QqQngukesUJf2UKlm9lDiy\n",
            "To: /content/medical_intent_classification_bangla02.csv\n",
            "100% 278k/278k [00:00<00:00, 33.2MB/s]\n"
          ]
        }
      ]
    },
    {
      "cell_type": "code",
      "source": [
        "df = pd.read_csv('/content/medical_intent_classification_bangla02.csv')"
      ],
      "metadata": {
        "id": "-W6Ld40q0hYR"
      },
      "execution_count": null,
      "outputs": []
    },
    {
      "cell_type": "markdown",
      "source": [
        "#Text Preprocessing"
      ],
      "metadata": {
        "id": "UdX8On7e2F7Y"
      }
    },
    {
      "cell_type": "code",
      "source": [
        "import re\n",
        "\n",
        "# Example of a simple Bengali text cleaning function\n",
        "def clean_text(text):\n",
        "    text = text.lower()  # Convert to lowercase\n",
        "    text = re.sub(r'[^\\u0980-\\u09FF\\s]', '', text)  # Remove any non-Bengali characters\n",
        "    return text.strip()\n",
        "\n",
        "# Apply text cleaning to symptom descriptions\n",
        "df[\"উপসর্গের বিবরণ\"] = df[\"উপসর্গের বিবরণ\"].apply(clean_text)\n"
      ],
      "metadata": {
        "id": "AqnVikwr2GjH"
      },
      "execution_count": null,
      "outputs": []
    },
    {
      "cell_type": "markdown",
      "source": [
        "#Label Encoding"
      ],
      "metadata": {
        "id": "GWI6I14q23tn"
      }
    },
    {
      "cell_type": "code",
      "source": [
        "from sklearn.preprocessing import LabelEncoder\n",
        "\n",
        "# Initialize the LabelEncoder\n",
        "label_encoder = LabelEncoder()\n",
        "\n",
        "# Fit and transform intent classes\n",
        "df[\"intent_label\"] = label_encoder.fit_transform(df[\"উদ্দেশ্য\"])\n",
        "\n",
        "# Show the first few rows to check if encoding is successful\n",
        "print(df.head())\n",
        "\n",
        "# Save the mapping for future use (e.g., decoding predictions)\n",
        "intent_mapping = dict(zip(label_encoder.classes_, label_encoder.transform(label_encoder.classes_)))\n",
        "print(\"Intent Mapping:\", intent_mapping)\n"
      ],
      "metadata": {
        "colab": {
          "base_uri": "https://localhost:8080/"
        },
        "id": "RdWru3Al26bm",
        "outputId": "be6d0605-4b13-4bc7-ccfb-8fa06d5a54a4"
      },
      "execution_count": null,
      "outputs": [
        {
          "output_type": "stream",
          "name": "stdout",
          "text": [
            "   ID              উপসর্গের বিবরণ            উদ্দেশ্য  intent_label\n",
            "0   1               গাহাতপা ব্যথা  ফ্লু-এর মতো উপসর্গ            16\n",
            "1   2               কণ্ঠে শুষ্কতা         কণ্ঠে ব্যথা             3\n",
            "2   3               গায়ে চুলকানি             চুলকানি             6\n",
            "3   4                    পেট ফোলা        হজমের সমস্যা            26\n",
            "4   5  মাংসপেশীতে শক্তি পাচ্ছি না    মাংসপেশীর সমস্যা            19\n",
            "Intent Mapping: {'অবসাদ': 0, 'অ্যালার্জি': 1, 'ইনফেকশন': 2, 'কণ্ঠে ব্যথা': 3, 'কোষ্ঠকাঠিন্য': 4, 'ঘুমের সমস্যা': 5, 'চুলকানি': 6, 'চোখের সমস্যা': 7, 'জ্বর': 8, 'ডায়াবেটিস': 9, 'ত্বকের সমস্যা': 10, 'দাঁতের সমস্যা': 11, 'দীর্ঘস্থায়ী ক্লান্তি': 12, 'পাচনতন্ত্রের সমস্যা': 13, 'পিঠের ব্যথা': 14, 'পেটে ফোলাভাব': 15, 'ফ্লু-এর মতো উপসর্গ': 16, 'বমি ভাব': 17, 'বুক ধড়ফড়': 18, 'মাংসপেশীর সমস্যা': 19, 'মাথাব্যথা': 20, 'মূত্রনালীর সমস্যা': 21, 'রক্তচাপ সমস্যা': 22, 'শ্বাসকষ্ট সমস্যা': 23, 'সর্দি-কাশি': 24, 'স্নায়বিক সমস্যা': 25, 'হজমের সমস্যা': 26, 'হাঁপানি': 27, 'হাড় বা জয়েন্টের ব্যথা': 28, 'হৃদরোগের আশঙ্কা': 29}\n"
          ]
        }
      ]
    },
    {
      "cell_type": "markdown",
      "source": [
        "#Tokenization"
      ],
      "metadata": {
        "id": "wsnKX_zU2-C3"
      }
    },
    {
      "cell_type": "code",
      "source": [
        "from transformers import AutoTokenizer\n",
        "\n",
        "# Load the tokenizer for a Bengali transformer model (Bangla-BERT as an example)\n",
        "tokenizer = AutoTokenizer.from_pretrained(\"sagorsarker/bangla-bert-base\")\n",
        "\n",
        "# Tokenize the symptoms and pad/truncate sequences to ensure uniform input length\n",
        "# Define a maximum sequence length based on your model’s requirements\n",
        "max_length = 128  # example length\n",
        "\n",
        "# Tokenizing and padding/truncating sequences\n",
        "df[\"input_ids\"] = df[\"উপসর্গের বিবরণ\"].apply(lambda x: tokenizer.encode(x, truncation=True, padding=\"max_length\", max_length=max_length))\n"
      ],
      "metadata": {
        "colab": {
          "base_uri": "https://localhost:8080/",
          "height": 205,
          "referenced_widgets": [
            "7806d0bc1ab04b85b56f78a205691cf6",
            "9d98673b12e64f3286aeae110f23d16e",
            "4582814a1c6d4e05b32b490a80994e73",
            "bb51e2ef4ca7490896ec4f0f6f561531",
            "c30bf723eee6402c85db8f816e73d458",
            "79f1370a51a047819d4859c79e51d30c",
            "1e9cfa86a6ed409988791e9646ae6c49",
            "56b797c857024e988ae5ac59827de256",
            "91caba45a47e4d698c86b9522ccf0ac9",
            "550ff750422448deb4c5bfb717422691",
            "443168863a7141a297fb3ac725b93152",
            "ddc8fc4153ea42b8840894428ea3f9f1",
            "3d501f8ca13449f6bd3c3b1814fdf076",
            "a59dd677727b44b6b09a943444291b22",
            "25bd5fa439b74c18a0db568c7007a659",
            "695e0167bc3a4e34a0616e8ba6a37e8f",
            "f9c48ea7c82e479f9deaed48bd44e3ca",
            "cf429f8a54f5479cb5ea99965a152cac",
            "b5935d2713c546928c817a608e734b0b",
            "9f2943a170d84f5895ab0f7feb7f248b",
            "e05877cc24ab45738d569f575e0a2b5c",
            "51f90f8bd0f34795a9bc86fc8716fd97"
          ]
        },
        "id": "LcIqvv2C2_0G",
        "outputId": "fb80c51e-f046-45f7-84a1-60866b371211"
      },
      "execution_count": null,
      "outputs": [
        {
          "output_type": "stream",
          "name": "stderr",
          "text": [
            "/usr/local/lib/python3.10/dist-packages/huggingface_hub/utils/_auth.py:94: UserWarning: \n",
            "The secret `HF_TOKEN` does not exist in your Colab secrets.\n",
            "To authenticate with the Hugging Face Hub, create a token in your settings tab (https://huggingface.co/settings/tokens), set it as secret in your Google Colab and restart your session.\n",
            "You will be able to reuse this secret in all of your notebooks.\n",
            "Please note that authentication is recommended but still optional to access public models or datasets.\n",
            "  warnings.warn(\n"
          ]
        },
        {
          "output_type": "display_data",
          "data": {
            "text/plain": [
              "config.json:   0%|          | 0.00/491 [00:00<?, ?B/s]"
            ],
            "application/vnd.jupyter.widget-view+json": {
              "version_major": 2,
              "version_minor": 0,
              "model_id": "7806d0bc1ab04b85b56f78a205691cf6"
            }
          },
          "metadata": {}
        },
        {
          "output_type": "display_data",
          "data": {
            "text/plain": [
              "vocab.txt:   0%|          | 0.00/2.24M [00:00<?, ?B/s]"
            ],
            "application/vnd.jupyter.widget-view+json": {
              "version_major": 2,
              "version_minor": 0,
              "model_id": "ddc8fc4153ea42b8840894428ea3f9f1"
            }
          },
          "metadata": {}
        }
      ]
    },
    {
      "cell_type": "markdown",
      "source": [
        "#Split the Dataset into Train and Test Sets"
      ],
      "metadata": {
        "id": "kzas-42K3G9V"
      }
    },
    {
      "cell_type": "code",
      "source": [
        "from sklearn.model_selection import train_test_split\n",
        "\n",
        "# Define features and labels\n",
        "X = list(df[\"input_ids\"])  # Tokenized symptoms as features\n",
        "y = df[\"intent_label\"].values  # Encoded intents as labels\n",
        "\n",
        "# Split the data\n",
        "X_train, X_test, y_train, y_test = train_test_split(X, y, test_size=0.2, random_state=42)\n",
        "\n",
        "print(f\"Training samples: {len(X_train)}, Testing samples: {len(X_test)}\")\n"
      ],
      "metadata": {
        "colab": {
          "base_uri": "https://localhost:8080/"
        },
        "id": "6E81hQGh3Id9",
        "outputId": "f2568130-3228-40ec-c6c2-dc3498391f27"
      },
      "execution_count": null,
      "outputs": [
        {
          "output_type": "stream",
          "name": "stdout",
          "text": [
            "Training samples: 2400, Testing samples: 600\n"
          ]
        }
      ]
    },
    {
      "cell_type": "markdown",
      "source": [
        "#Model Selection"
      ],
      "metadata": {
        "id": "AfvE4z-d3V0F"
      }
    },
    {
      "cell_type": "code",
      "source": [
        "from transformers import AutoModelForSequenceClassification\n",
        "import torch\n",
        "\n",
        "# Define the number of output classes based on the unique intents in your dataset\n",
        "num_labels = len(df[\"intent_label\"].unique())\n",
        "\n",
        "# Load the Bangla-BERT model with the specified number of labels\n",
        "model = AutoModelForSequenceClassification.from_pretrained(\"sagorsarker/bangla-bert-base\", num_labels=num_labels)\n"
      ],
      "metadata": {
        "colab": {
          "base_uri": "https://localhost:8080/",
          "height": 104,
          "referenced_widgets": [
            "c8ab0737e70c47cc8cef9fe042eee22e",
            "c988098475434f0ba8d144f08501f280",
            "ebbd8cbc536844debda908702acab04b",
            "d11fca40e2424a89b625aaee5ab48aa6",
            "a9493aa3d9094e47bbc1981ca266bbe6",
            "5a324362400e4f17bf94f5140e892b57",
            "7724dac6b23d47cf970c09d53ce05249",
            "b69ccb52362f4e729cde4d6fdfaed60c",
            "355d5d33725b435ab6a2a9539a9a124f",
            "19546bad4b024e4296e8e915e0270d0a",
            "7ba9e1bc9ecb453daa04a1b28b3363e6"
          ]
        },
        "id": "hon62G3-3WtW",
        "outputId": "da435021-b504-480f-8376-534d05fdc622"
      },
      "execution_count": null,
      "outputs": [
        {
          "output_type": "display_data",
          "data": {
            "text/plain": [
              "model.safetensors:   0%|          | 0.00/660M [00:00<?, ?B/s]"
            ],
            "application/vnd.jupyter.widget-view+json": {
              "version_major": 2,
              "version_minor": 0,
              "model_id": "c8ab0737e70c47cc8cef9fe042eee22e"
            }
          },
          "metadata": {}
        },
        {
          "output_type": "stream",
          "name": "stderr",
          "text": [
            "Some weights of BertForSequenceClassification were not initialized from the model checkpoint at sagorsarker/bangla-bert-base and are newly initialized: ['classifier.bias', 'classifier.weight']\n",
            "You should probably TRAIN this model on a down-stream task to be able to use it for predictions and inference.\n"
          ]
        }
      ]
    },
    {
      "cell_type": "markdown",
      "source": [
        "#Convert Data to PyTorch Datasets"
      ],
      "metadata": {
        "id": "5BL5Bw1Y3aCN"
      }
    },
    {
      "cell_type": "code",
      "source": [
        "from torch.utils.data import Dataset, DataLoader\n",
        "\n",
        "class IntentDataset(Dataset):\n",
        "    def __init__(self, inputs, labels):\n",
        "        self.inputs = inputs\n",
        "        self.labels = labels\n",
        "\n",
        "    def __len__(self):\n",
        "        return len(self.labels)\n",
        "\n",
        "    def __getitem__(self, idx):\n",
        "        return {\n",
        "            \"input_ids\": torch.tensor(self.inputs[idx], dtype=torch.long),\n",
        "            \"labels\": torch.tensor(self.labels[idx], dtype=torch.long),\n",
        "        }\n",
        "\n",
        "# Create PyTorch datasets\n",
        "train_dataset = IntentDataset(X_train, y_train)\n",
        "test_dataset = IntentDataset(X_test, y_test)\n",
        "\n",
        "# Create dataloaders\n",
        "train_loader = DataLoader(train_dataset, batch_size=8, shuffle=True)\n",
        "test_loader = DataLoader(test_dataset, batch_size=8)\n"
      ],
      "metadata": {
        "id": "8WfjTCVn3bwl"
      },
      "execution_count": null,
      "outputs": []
    },
    {
      "cell_type": "markdown",
      "source": [
        "#Define Training Loop and Train the Model"
      ],
      "metadata": {
        "id": "Fhx2z__XWUhq"
      }
    },
    {
      "cell_type": "code",
      "source": [
        "from transformers import AdamW\n",
        "from tqdm import tqdm\n",
        "\n",
        "# Define optimizer\n",
        "optimizer = AdamW(model.parameters(), lr=2e-5)\n",
        "\n",
        "# Define training function\n",
        "def train(model, train_loader, optimizer):\n",
        "    model.train()\n",
        "    for batch in tqdm(train_loader):\n",
        "        optimizer.zero_grad()\n",
        "        input_ids = batch[\"input_ids\"]\n",
        "        labels = batch[\"labels\"]\n",
        "\n",
        "        # Forward pass\n",
        "        outputs = model(input_ids=input_ids, labels=labels)\n",
        "        loss = outputs.loss\n",
        "\n",
        "        # Backward pass\n",
        "        loss.backward()\n",
        "        optimizer.step()\n",
        "    print(f\"Training loss: {loss.item()}\")\n",
        "\n",
        "# Train the model for 3 epochs\n",
        "for epoch in range(25):\n",
        "    print(f\"Epoch {epoch+1}\")\n",
        "    train(model, train_loader, optimizer)\n"
      ],
      "metadata": {
        "colab": {
          "base_uri": "https://localhost:8080/"
        },
        "id": "uavuY2ImWWga",
        "outputId": "063943e2-032c-4445-cb90-42dd817796ff"
      },
      "execution_count": null,
      "outputs": [
        {
          "output_type": "stream",
          "name": "stderr",
          "text": [
            "/usr/local/lib/python3.10/dist-packages/transformers/optimization.py:591: FutureWarning: This implementation of AdamW is deprecated and will be removed in a future version. Use the PyTorch implementation torch.optim.AdamW instead, or set `no_deprecation_warning=True` to disable this warning\n",
            "  warnings.warn(\n"
          ]
        },
        {
          "output_type": "stream",
          "name": "stdout",
          "text": [
            "Epoch 1\n"
          ]
        },
        {
          "output_type": "stream",
          "name": "stderr",
          "text": [
            "  0%|          | 0/300 [00:00<?, ?it/s]We strongly recommend passing in an `attention_mask` since your input_ids may be padded. See https://huggingface.co/docs/transformers/troubleshooting#incorrect-output-when-padding-tokens-arent-masked.\n",
            "  5%|▍         | 14/300 [01:39<32:04,  6.73s/it]"
          ]
        }
      ]
    },
    {
      "cell_type": "markdown",
      "source": [
        "#Evaluate the Model"
      ],
      "metadata": {
        "id": "y1c42lriWY1K"
      }
    },
    {
      "cell_type": "code",
      "source": [
        "from sklearn.metrics import accuracy_score\n",
        "\n",
        "def evaluate(model, test_loader):\n",
        "    model.eval()\n",
        "    predictions, true_labels = [], []\n",
        "\n",
        "    with torch.no_grad():\n",
        "        for batch in test_loader:\n",
        "            input_ids = batch[\"input_ids\"]\n",
        "            labels = batch[\"labels\"]\n",
        "\n",
        "            outputs = model(input_ids=input_ids)\n",
        "            logits = outputs.logits\n",
        "            preds = torch.argmax(logits, axis=-1)\n",
        "\n",
        "            predictions.extend(preds.tolist())\n",
        "            true_labels.extend(labels.tolist())\n",
        "\n",
        "    accuracy = accuracy_score(true_labels, predictions)\n",
        "    print(f\"Test Accuracy: {accuracy * 100:.2f}%\")\n",
        "\n",
        "# Evaluate the model\n",
        "evaluate(model, test_loader)\n"
      ],
      "metadata": {
        "id": "NVX0yNujWa7D"
      },
      "execution_count": null,
      "outputs": []
    }
  ]
}