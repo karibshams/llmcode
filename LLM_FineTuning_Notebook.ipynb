
{
 "cells": [
  {
   "cell_type": "code",
   "execution_count": 1,
   "id": "e3a7d032",
   "metadata": {},
   "outputs": [],
   "source": [
    "# Install Dependencies\n",
    "!pip install transformers datasets torch"
   ]
  },
  {
   "cell_type": "code",
   "execution_count": 2,
   "id": "b3f4e66f",
   "metadata": {},
   "outputs": [],
   "source": [
    "# Import Required Libraries\n",
    "from transformers import GPT2LMHeadModel, GPT2Tokenizer, Trainer, TrainingArguments\n",
    "from datasets import load_dataset\n",
    "import torch\n",
    "from sklearn.model_selection import train_test_split"
   ]
  },
  {
   "cell_type": "code",
   "execution_count": 3,
   "id": "a6d75b56",
   "metadata": {},
   "outputs": [],
   "source": [
    "# Load Pre-trained Model and Tokenizer\n",
    "model_name = \"gpt2\"\n",
    "model = GPT2LMHeadModel.from_pretrained(model_name)\n",
    "tokenizer = GPT2Tokenizer.from_pretrained(model_name)"
   ]
  },
  {
   "cell_type": "code",
   "execution_count": 4,
   "id": "a1283e93",
   "metadata": {},
   "outputs": [],
   "source": [
    "# Prepare Dataset\n",
    "dataset = load_dataset(\"wikitext\", \"wikitext-103-raw-v1\")\n",
    "def tokenize_function(examples):\n",
    "    return tokenizer(examples[\"text\"], return_tensors=\"pt\", truncation=True, padding=\"max_length\", max_length=512)\n",
    "tokenized_datasets = dataset.map(tokenize_function, batched=True)"
   ]
  },
  {
   "cell_type": "code",
   "execution_count": 5,
   "id": "826ebea0",
   "metadata": {},
   "outputs": [],
   "source": [
    "# Split Dataset for Fine-Tuning\n",
    "train_dataset = tokenized_datasets[\"train\"]\n",
    "val_dataset = tokenized_datasets[\"validation\"]"
   ]
  },
  {
   "cell_type": "code",
   "execution_count": 6,
   "id": "ff9e0b85",
   "metadata": {},
   "outputs": [],
   "source": [
    "# Set Training Arguments\n",
    "training_args = TrainingArguments(\n",
    "    output_dir=\"./results\",\n",
    "    evaluation_strategy=\"epoch\",\n",
    "    learning_rate=5e-5,\n",
    "    per_device_train_batch_size=4,\n",
    "    per_device_eval_batch_size=8,\n",
    "    num_train_epochs=3,\n",
    "    weight_decay=0.01,\n",
    "    logging_dir=\"./logs\",\n",
    "    logging_steps=10,\n",
    "    save_steps=500,\n",
    "    evaluation_strategy=\"steps\",\n",
    "    save_total_limit=2\n",
    ")"
   ]
  },
  {
   "cell_type": "code",
   "execution_count": 7,
   "id": "23c9c764",
   "metadata": {},
   "outputs": [],
   "source": [
    "# Create the Trainer\n",
    "trainer = Trainer(\n",
    "    model=model,\n",
    "    args=training_args,\n",
    "    train_dataset=train_dataset,\n",
    "    eval_dataset=val_dataset,\n",
    "    tokenizer=tokenizer\n",
    ")"
   ]
  },
  {
   "cell_type": "code",
   "execution_count": 8,
   "id": "a98d2069",
   "metadata": {},
   "outputs": [],
   "source": [
    "# Fine-Tuning the Model\n",
    "trainer.train()"
   ]
  },
  {
   "cell_type": "code",
   "execution_count": 9,
   "id": "354e68e4",
   "metadata": {},
   "outputs": [],
   "source": [
    "# Save the Fine-Tuned Model\n",
    "trainer.save_model(\"./fine_tuned_gpt2\")\n",
    "tokenizer.save_pretrained(\"./fine_tuned_gpt2\")"
   ]
  },
  {
   "cell_type": "code",
   "execution_count": 10,
   "id": "1b2f28e3",
   "metadata": {},
   "outputs": [],
   "source": [
    "# Advanced Parameter Tuning\n",
    "training_args = TrainingArguments(\n",
    "    learning_rate=5e-5,\n",
    "    warmup_steps=500,\n",
    "    lr_scheduler_type=\"linear\",\n",
    "    gradient_accumulation_steps=16,\n",
    "    fp16=True\n",
    ")"
   ]
  },
  {
   "cell_type": "code",
   "execution_count": 11,
   "id": "c1f7c694",
   "metadata": {},
   "outputs": [],
   "source": [
    "# Hyperparameter Tuning with Ray Tune (Optional)\n",
    "from ray import tune\n",
    "def model_init():\n",
    "    return GPT2LMHeadModel.from_pretrained(\"gpt2\")\n",
    "param_space = {\n",
    "    \"learning_rate\": tune.loguniform(1e-6, 1e-4),\n",
    "    \"per_device_train_batch_size\": tune.choice([4, 8, 16]),\n",
    "    \"num_train_epochs\": tune.choice([3, 5, 7]),\n",
    "}\n",
    "tune.run(\n",
    "    lambda config: Trainer(\n",
    "        model_init=model_init,\n",
    "        args=TrainingArguments(\n",
    "            output_dir=\"./results\",\n",
    "            learning_rate=config[\"learning_rate\"],\n",
    "            per_device_train_batch_size=config[\"per_device_train_batch_size\"],\n",
    "            num_train_epochs=config[\"num_train_epochs\"],\n",
    "        ),\n",
    "    ).train(),\n",
    "    config=param_space\n",
    ")"
   ]
  },
  {
   "cell_type": "code",
   "execution_count": 12,
   "id": "7bc5f108",
   "metadata": {},
   "outputs": [],
   "source": [
    "# Evaluation and Performance Metrics\n",
    "eval_results = trainer.evaluate()\n",
    "print(eval_results)"
   ]
  }
 ],
 "metadata": {
  "kernelspec": {
   "display_name": "Python 3",
   "language": "python",
   "name": "python3"
  },
  "language_info": {
   "codemirror_mode": {
    "name": "ipython",
    "version": 3
   },
   "file_extension": ".py",
   "mimetype": "text/x-python",
   "name": "python",
   "nbconvert_exporter": "python",
   "version": "3.8.10"
  }
 },
 "nbformat": 4,
 "nbformat_minor": 5
}
